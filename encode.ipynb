{
 "cells": [
  {
   "cell_type": "code",
   "execution_count": 1,
   "metadata": {},
   "outputs": [],
   "source": [
    "def encode(csv):\n",
    "    cut = csv.cut\n",
    "    color = csv.color\n",
    "    clarity = csv.clarity\n",
    "\n",
    "    le_cut = preprocessing.LabelEncoder()\n",
    "    le_color = preprocessing.LabelEncoder()\n",
    "    le_clarity = preprocessing.LabelEncoder()\n",
    "\n",
    "    cut_numeric = le_cut.fit_transform(cut)\n",
    "    color_numeric = le_color.fit_transform(color)\n",
    "    clarity_numeric = le_clarity.fit_transform(clarity)\n",
    "    clean = csv\n",
    "    clean[\"cut_numeric\"] = cut_numeric\n",
    "    clean[\"color_numeric\"] = color_numeric\n",
    "    clean[\"clarity_numeric\"] = clarity_numeric\n",
    "    clean.drop(columns=[\"cut\", \"color\", \"clarity\"], inplace = True)\n",
    "    return clean"
   ]
  },
  {
   "cell_type": "code",
   "execution_count": null,
   "metadata": {},
   "outputs": [],
   "source": []
  }
 ],
 "metadata": {
  "kernelspec": {
   "display_name": "Python 3",
   "language": "python",
   "name": "python3"
  },
  "language_info": {
   "codemirror_mode": {
    "name": "ipython",
    "version": 3
   },
   "file_extension": ".py",
   "mimetype": "text/x-python",
   "name": "python",
   "nbconvert_exporter": "python",
   "pygments_lexer": "ipython3",
   "version": "3.7.7"
  }
 },
 "nbformat": 4,
 "nbformat_minor": 4
}
