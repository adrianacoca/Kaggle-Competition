{
 "cells": [
  {
   "cell_type": "code",
   "execution_count": 158,
   "metadata": {},
   "outputs": [],
   "source": [
    "import pandas as pd\n",
    "import numpy as np\n",
    "from sklearn.metrics import mean_squared_error, r2_score\n",
    "import matplotlib.pyplot as plt\n",
    "from sklearn.metrics import accuracy_score, precision_score, recall_score, f1_score\n",
    "from sklearn.svm import OneClassSVM\n",
    "from sklearn import preprocessing"
   ]
  },
  {
   "cell_type": "code",
   "execution_count": 159,
   "metadata": {},
   "outputs": [],
   "source": [
    "train = pd.read_csv(\"data/train.csv\")"
   ]
  },
  {
   "cell_type": "code",
   "execution_count": 160,
   "metadata": {},
   "outputs": [],
   "source": [
    "predict = pd.read_csv(\"data/predict.csv\")"
   ]
  },
  {
   "cell_type": "code",
   "execution_count": 176,
   "metadata": {},
   "outputs": [],
   "source": [
    "#Functions: \n",
    "def encode(csv):\n",
    "    cut = csv.cut\n",
    "    color = csv.color\n",
    "    clarity = csv.clarity\n",
    "\n",
    "    le_cut = preprocessing.LabelEncoder()\n",
    "    le_color = preprocessing.LabelEncoder()\n",
    "    le_clarity = preprocessing.LabelEncoder()\n",
    "\n",
    "    cut_numeric = le_cut.fit_transform(cut)\n",
    "    color_numeric = le_color.fit_transform(color)\n",
    "    clarity_numeric = le_clarity.fit_transform(clarity)\n",
    "    clean = csv.copy()\n",
    "    clean[\"cut_numeric\"] = cut_numeric\n",
    "    clean[\"color_numeric\"] = color_numeric\n",
    "    clean[\"clarity_numeric\"] = clarity_numeric\n",
    "    clean.drop(columns=[\"cut\", \"color\", \"clarity\"], inplace = True)\n",
    "    return clean"
   ]
  },
  {
   "cell_type": "code",
   "execution_count": 163,
   "metadata": {},
   "outputs": [],
   "source": [
    "def split(csv):\n",
    "    X = csv.loc[:, csv.columns != \"price\"]\n",
    "    y = csv[\"price\"]\n",
    "    X_train, X_test, y_train, y_test = train_test_split(X, y, test_size=0.2)\n",
    "    return X_train, X_test, y_train, y_test"
   ]
  },
  {
   "cell_type": "code",
   "execution_count": 164,
   "metadata": {},
   "outputs": [],
   "source": [
    "def printMetrics(y_test,y_pred):\n",
    "    printMetric = lambda label,value:print(f\"\\t {label}: {round(value,3)}\")\n",
    "    printMetric(\"Accuracy\",accuracy_score(y_test, y_pred))\n",
    "    printMetric(\"Precision\",precision_score(y_test, y_pred, average = \"weighted\"))\n",
    "    printMetric(\"Recall\",recall_score(y_test, y_pred, average = \"weighted\"))\n",
    "    printMetric(\"F1Score\",f1_score(y_test, y_pred, average = \"weighted\"))\n",
    "    printMetric(\"Mean Square Error\", mean_squared_error(y_test,y_pred))\n",
    "    printMetric(\"Root Mean Square Error\", mean_squared_error(y_test,y_pred, squared = False))"
   ]
  },
  {
   "cell_type": "code",
   "execution_count": 165,
   "metadata": {},
   "outputs": [],
   "source": [
    "def fitModel(model):\n",
    "    model = model\n",
    "    model.fit(X_train, y_train)\n",
    "    y_pred = model.predict(X_test)\n",
    "    return y_pred"
   ]
  },
  {
   "cell_type": "code",
   "execution_count": 166,
   "metadata": {},
   "outputs": [],
   "source": [
    "def predictModel(model, f = ['carat','table','x','y','z','color_numeric','cut_numeric','clarity_numeric', 'depth']):\n",
    "    model = model\n",
    "    m = model.fit(X_train, y_train)\n",
    "    prediction = model.predict(encode(predict)[f])\n",
    "    return prediction"
   ]
  },
  {
   "cell_type": "markdown",
   "metadata": {},
   "source": [
    "# Inspecting the Data"
   ]
  },
  {
   "cell_type": "code",
   "execution_count": 9,
   "metadata": {},
   "outputs": [
    {
     "data": {
      "text/html": [
       "<div>\n",
       "<style scoped>\n",
       "    .dataframe tbody tr th:only-of-type {\n",
       "        vertical-align: middle;\n",
       "    }\n",
       "\n",
       "    .dataframe tbody tr th {\n",
       "        vertical-align: top;\n",
       "    }\n",
       "\n",
       "    .dataframe thead th {\n",
       "        text-align: right;\n",
       "    }\n",
       "</style>\n",
       "<table border=\"1\" class=\"dataframe\">\n",
       "  <thead>\n",
       "    <tr style=\"text-align: right;\">\n",
       "      <th></th>\n",
       "      <th>id</th>\n",
       "      <th>carat</th>\n",
       "      <th>cut</th>\n",
       "      <th>color</th>\n",
       "      <th>clarity</th>\n",
       "      <th>depth</th>\n",
       "      <th>table</th>\n",
       "      <th>x</th>\n",
       "      <th>y</th>\n",
       "      <th>z</th>\n",
       "      <th>price</th>\n",
       "    </tr>\n",
       "  </thead>\n",
       "  <tbody>\n",
       "    <tr>\n",
       "      <th>0</th>\n",
       "      <td>0</td>\n",
       "      <td>0.30</td>\n",
       "      <td>Very Good</td>\n",
       "      <td>F</td>\n",
       "      <td>VS2</td>\n",
       "      <td>62.8</td>\n",
       "      <td>56.0</td>\n",
       "      <td>4.29</td>\n",
       "      <td>4.31</td>\n",
       "      <td>2.70</td>\n",
       "      <td>605</td>\n",
       "    </tr>\n",
       "    <tr>\n",
       "      <th>1</th>\n",
       "      <td>1</td>\n",
       "      <td>0.34</td>\n",
       "      <td>Ideal</td>\n",
       "      <td>E</td>\n",
       "      <td>SI1</td>\n",
       "      <td>62.6</td>\n",
       "      <td>55.0</td>\n",
       "      <td>4.46</td>\n",
       "      <td>4.49</td>\n",
       "      <td>2.80</td>\n",
       "      <td>565</td>\n",
       "    </tr>\n",
       "    <tr>\n",
       "      <th>2</th>\n",
       "      <td>2</td>\n",
       "      <td>0.40</td>\n",
       "      <td>Very Good</td>\n",
       "      <td>D</td>\n",
       "      <td>SI1</td>\n",
       "      <td>60.3</td>\n",
       "      <td>62.0</td>\n",
       "      <td>4.70</td>\n",
       "      <td>4.75</td>\n",
       "      <td>2.85</td>\n",
       "      <td>720</td>\n",
       "    </tr>\n",
       "    <tr>\n",
       "      <th>3</th>\n",
       "      <td>3</td>\n",
       "      <td>0.40</td>\n",
       "      <td>Premium</td>\n",
       "      <td>H</td>\n",
       "      <td>VS1</td>\n",
       "      <td>61.8</td>\n",
       "      <td>59.2</td>\n",
       "      <td>4.72</td>\n",
       "      <td>4.74</td>\n",
       "      <td>2.92</td>\n",
       "      <td>793</td>\n",
       "    </tr>\n",
       "    <tr>\n",
       "      <th>4</th>\n",
       "      <td>4</td>\n",
       "      <td>0.90</td>\n",
       "      <td>Very Good</td>\n",
       "      <td>D</td>\n",
       "      <td>SI1</td>\n",
       "      <td>61.0</td>\n",
       "      <td>63.0</td>\n",
       "      <td>6.10</td>\n",
       "      <td>6.13</td>\n",
       "      <td>3.73</td>\n",
       "      <td>4381</td>\n",
       "    </tr>\n",
       "  </tbody>\n",
       "</table>\n",
       "</div>"
      ],
      "text/plain": [
       "   id  carat        cut color clarity  depth  table     x     y     z  price\n",
       "0   0   0.30  Very Good     F     VS2   62.8   56.0  4.29  4.31  2.70    605\n",
       "1   1   0.34      Ideal     E     SI1   62.6   55.0  4.46  4.49  2.80    565\n",
       "2   2   0.40  Very Good     D     SI1   60.3   62.0  4.70  4.75  2.85    720\n",
       "3   3   0.40    Premium     H     VS1   61.8   59.2  4.72  4.74  2.92    793\n",
       "4   4   0.90  Very Good     D     SI1   61.0   63.0  6.10  6.13  3.73   4381"
      ]
     },
     "execution_count": 9,
     "metadata": {},
     "output_type": "execute_result"
    }
   ],
   "source": [
    "train.head()"
   ]
  },
  {
   "cell_type": "code",
   "execution_count": 10,
   "metadata": {},
   "outputs": [
    {
     "data": {
      "text/plain": [
       "id         0\n",
       "carat      0\n",
       "cut        0\n",
       "color      0\n",
       "clarity    0\n",
       "depth      0\n",
       "table      0\n",
       "x          0\n",
       "y          0\n",
       "z          0\n",
       "price      0\n",
       "dtype: int64"
      ]
     },
     "execution_count": 10,
     "metadata": {},
     "output_type": "execute_result"
    }
   ],
   "source": [
    "train.isna().sum()"
   ]
  },
  {
   "cell_type": "markdown",
   "metadata": {},
   "source": [
    "## Non numeric values\n",
    "### Cut | Color | Clarity "
   ]
  },
  {
   "cell_type": "code",
   "execution_count": 11,
   "metadata": {},
   "outputs": [
    {
     "data": {
      "text/plain": [
       "id           int64\n",
       "carat      float64\n",
       "cut         object\n",
       "color       object\n",
       "clarity     object\n",
       "depth      float64\n",
       "table      float64\n",
       "x          float64\n",
       "y          float64\n",
       "z          float64\n",
       "price        int64\n",
       "dtype: object"
      ]
     },
     "execution_count": 11,
     "metadata": {},
     "output_type": "execute_result"
    }
   ],
   "source": [
    "train.dtypes"
   ]
  },
  {
   "cell_type": "code",
   "execution_count": 12,
   "metadata": {},
   "outputs": [
    {
     "data": {
      "text/html": [
       "<div>\n",
       "<style scoped>\n",
       "    .dataframe tbody tr th:only-of-type {\n",
       "        vertical-align: middle;\n",
       "    }\n",
       "\n",
       "    .dataframe tbody tr th {\n",
       "        vertical-align: top;\n",
       "    }\n",
       "\n",
       "    .dataframe thead th {\n",
       "        text-align: right;\n",
       "    }\n",
       "</style>\n",
       "<table border=\"1\" class=\"dataframe\">\n",
       "  <thead>\n",
       "    <tr style=\"text-align: right;\">\n",
       "      <th></th>\n",
       "      <th>id</th>\n",
       "      <th>carat</th>\n",
       "      <th>depth</th>\n",
       "      <th>table</th>\n",
       "      <th>x</th>\n",
       "      <th>y</th>\n",
       "      <th>z</th>\n",
       "      <th>price</th>\n",
       "    </tr>\n",
       "  </thead>\n",
       "  <tbody>\n",
       "    <tr>\n",
       "      <th>id</th>\n",
       "      <td>1.000000</td>\n",
       "      <td>0.002653</td>\n",
       "      <td>0.002349</td>\n",
       "      <td>-0.006281</td>\n",
       "      <td>0.001529</td>\n",
       "      <td>0.001976</td>\n",
       "      <td>0.004030</td>\n",
       "      <td>0.006826</td>\n",
       "    </tr>\n",
       "    <tr>\n",
       "      <th>carat</th>\n",
       "      <td>0.002653</td>\n",
       "      <td>1.000000</td>\n",
       "      <td>0.032379</td>\n",
       "      <td>0.181791</td>\n",
       "      <td>0.974898</td>\n",
       "      <td>0.944513</td>\n",
       "      <td>0.947538</td>\n",
       "      <td>0.922567</td>\n",
       "    </tr>\n",
       "    <tr>\n",
       "      <th>depth</th>\n",
       "      <td>0.002349</td>\n",
       "      <td>0.032379</td>\n",
       "      <td>1.000000</td>\n",
       "      <td>-0.297164</td>\n",
       "      <td>-0.020876</td>\n",
       "      <td>-0.025105</td>\n",
       "      <td>0.099375</td>\n",
       "      <td>-0.005105</td>\n",
       "    </tr>\n",
       "    <tr>\n",
       "      <th>table</th>\n",
       "      <td>-0.006281</td>\n",
       "      <td>0.181791</td>\n",
       "      <td>-0.297164</td>\n",
       "      <td>1.000000</td>\n",
       "      <td>0.194763</td>\n",
       "      <td>0.181585</td>\n",
       "      <td>0.149242</td>\n",
       "      <td>0.129777</td>\n",
       "    </tr>\n",
       "    <tr>\n",
       "      <th>x</th>\n",
       "      <td>0.001529</td>\n",
       "      <td>0.974898</td>\n",
       "      <td>-0.020876</td>\n",
       "      <td>0.194763</td>\n",
       "      <td>1.000000</td>\n",
       "      <td>0.967114</td>\n",
       "      <td>0.965114</td>\n",
       "      <td>0.884089</td>\n",
       "    </tr>\n",
       "    <tr>\n",
       "      <th>y</th>\n",
       "      <td>0.001976</td>\n",
       "      <td>0.944513</td>\n",
       "      <td>-0.025105</td>\n",
       "      <td>0.181585</td>\n",
       "      <td>0.967114</td>\n",
       "      <td>1.000000</td>\n",
       "      <td>0.940678</td>\n",
       "      <td>0.858536</td>\n",
       "    </tr>\n",
       "    <tr>\n",
       "      <th>z</th>\n",
       "      <td>0.004030</td>\n",
       "      <td>0.947538</td>\n",
       "      <td>0.099375</td>\n",
       "      <td>0.149242</td>\n",
       "      <td>0.965114</td>\n",
       "      <td>0.940678</td>\n",
       "      <td>1.000000</td>\n",
       "      <td>0.855923</td>\n",
       "    </tr>\n",
       "    <tr>\n",
       "      <th>price</th>\n",
       "      <td>0.006826</td>\n",
       "      <td>0.922567</td>\n",
       "      <td>-0.005105</td>\n",
       "      <td>0.129777</td>\n",
       "      <td>0.884089</td>\n",
       "      <td>0.858536</td>\n",
       "      <td>0.855923</td>\n",
       "      <td>1.000000</td>\n",
       "    </tr>\n",
       "  </tbody>\n",
       "</table>\n",
       "</div>"
      ],
      "text/plain": [
       "             id     carat     depth     table         x         y         z  \\\n",
       "id     1.000000  0.002653  0.002349 -0.006281  0.001529  0.001976  0.004030   \n",
       "carat  0.002653  1.000000  0.032379  0.181791  0.974898  0.944513  0.947538   \n",
       "depth  0.002349  0.032379  1.000000 -0.297164 -0.020876 -0.025105  0.099375   \n",
       "table -0.006281  0.181791 -0.297164  1.000000  0.194763  0.181585  0.149242   \n",
       "x      0.001529  0.974898 -0.020876  0.194763  1.000000  0.967114  0.965114   \n",
       "y      0.001976  0.944513 -0.025105  0.181585  0.967114  1.000000  0.940678   \n",
       "z      0.004030  0.947538  0.099375  0.149242  0.965114  0.940678  1.000000   \n",
       "price  0.006826  0.922567 -0.005105  0.129777  0.884089  0.858536  0.855923   \n",
       "\n",
       "          price  \n",
       "id     0.006826  \n",
       "carat  0.922567  \n",
       "depth -0.005105  \n",
       "table  0.129777  \n",
       "x      0.884089  \n",
       "y      0.858536  \n",
       "z      0.855923  \n",
       "price  1.000000  "
      ]
     },
     "execution_count": 12,
     "metadata": {},
     "output_type": "execute_result"
    }
   ],
   "source": [
    "train.corr()"
   ]
  },
  {
   "cell_type": "code",
   "execution_count": 13,
   "metadata": {},
   "outputs": [
    {
     "name": "stdout",
     "output_type": "stream",
     "text": [
      "G    8469\n",
      "E    7375\n",
      "F    7179\n",
      "H    6229\n",
      "D    5012\n",
      "I    4088\n",
      "J    2103\n",
      "Name: color, dtype: int64 \n",
      "\n",
      " Ideal        16175\n",
      "Premium      10272\n",
      "Very Good     9146\n",
      "Good          3676\n",
      "Fair          1186\n",
      "Name: cut, dtype: int64 \n",
      "\n",
      " SI1     9813\n",
      "VS2     9217\n",
      "SI2     6844\n",
      "VS1     6150\n",
      "VVS2    3784\n",
      "VVS1    2780\n",
      "IF      1326\n",
      "I1       541\n",
      "Name: clarity, dtype: int64\n"
     ]
    }
   ],
   "source": [
    "print(train.color.value_counts(),\"\\n\\n\",\n",
    "train.cut.value_counts(),\"\\n\\n\",\n",
    "train.clarity.value_counts())"
   ]
  },
  {
   "cell_type": "code",
   "execution_count": 14,
   "metadata": {},
   "outputs": [],
   "source": [
    "from sklearn.model_selection import train_test_split"
   ]
  },
  {
   "cell_type": "markdown",
   "metadata": {},
   "source": [
    "## Encoding...   \n",
    "### Cut | Color | Clarity "
   ]
  },
  {
   "cell_type": "markdown",
   "metadata": {},
   "source": [
    "**Label Encoder**"
   ]
  },
  {
   "cell_type": "code",
   "execution_count": 57,
   "metadata": {},
   "outputs": [],
   "source": [
    "train_clean = encode(train)"
   ]
  },
  {
   "cell_type": "code",
   "execution_count": 16,
   "metadata": {},
   "outputs": [
    {
     "data": {
      "text/plain": [
       "id                   int64\n",
       "carat              float64\n",
       "depth              float64\n",
       "table              float64\n",
       "x                  float64\n",
       "y                  float64\n",
       "z                  float64\n",
       "price                int64\n",
       "cut_numeric          int64\n",
       "color_numeric        int64\n",
       "clarity_numeric      int64\n",
       "dtype: object"
      ]
     },
     "execution_count": 16,
     "metadata": {},
     "output_type": "execute_result"
    }
   ],
   "source": [
    "train_clean.dtypes"
   ]
  },
  {
   "cell_type": "code",
   "execution_count": 58,
   "metadata": {},
   "outputs": [
    {
     "data": {
      "text/html": [
       "<div>\n",
       "<style scoped>\n",
       "    .dataframe tbody tr th:only-of-type {\n",
       "        vertical-align: middle;\n",
       "    }\n",
       "\n",
       "    .dataframe tbody tr th {\n",
       "        vertical-align: top;\n",
       "    }\n",
       "\n",
       "    .dataframe thead th {\n",
       "        text-align: right;\n",
       "    }\n",
       "</style>\n",
       "<table border=\"1\" class=\"dataframe\">\n",
       "  <thead>\n",
       "    <tr style=\"text-align: right;\">\n",
       "      <th></th>\n",
       "      <th>id</th>\n",
       "      <th>carat</th>\n",
       "      <th>depth</th>\n",
       "      <th>table</th>\n",
       "      <th>x</th>\n",
       "      <th>y</th>\n",
       "      <th>z</th>\n",
       "      <th>price</th>\n",
       "      <th>cut_numeric</th>\n",
       "      <th>color_numeric</th>\n",
       "      <th>clarity_numeric</th>\n",
       "    </tr>\n",
       "  </thead>\n",
       "  <tbody>\n",
       "    <tr>\n",
       "      <th>id</th>\n",
       "      <td>1.000000</td>\n",
       "      <td>0.002653</td>\n",
       "      <td>0.002349</td>\n",
       "      <td>-0.006281</td>\n",
       "      <td>0.001529</td>\n",
       "      <td>0.001976</td>\n",
       "      <td>0.004030</td>\n",
       "      <td>0.006826</td>\n",
       "      <td>0.001979</td>\n",
       "      <td>-0.007942</td>\n",
       "      <td>0.002959</td>\n",
       "    </tr>\n",
       "    <tr>\n",
       "      <th>carat</th>\n",
       "      <td>0.002653</td>\n",
       "      <td>1.000000</td>\n",
       "      <td>0.032379</td>\n",
       "      <td>0.181791</td>\n",
       "      <td>0.974898</td>\n",
       "      <td>0.944513</td>\n",
       "      <td>0.947538</td>\n",
       "      <td>0.922567</td>\n",
       "      <td>0.020662</td>\n",
       "      <td>0.289150</td>\n",
       "      <td>-0.212821</td>\n",
       "    </tr>\n",
       "    <tr>\n",
       "      <th>depth</th>\n",
       "      <td>0.002349</td>\n",
       "      <td>0.032379</td>\n",
       "      <td>1.000000</td>\n",
       "      <td>-0.297164</td>\n",
       "      <td>-0.020876</td>\n",
       "      <td>-0.025105</td>\n",
       "      <td>0.099375</td>\n",
       "      <td>-0.005105</td>\n",
       "      <td>-0.188766</td>\n",
       "      <td>0.046420</td>\n",
       "      <td>-0.054104</td>\n",
       "    </tr>\n",
       "    <tr>\n",
       "      <th>table</th>\n",
       "      <td>-0.006281</td>\n",
       "      <td>0.181791</td>\n",
       "      <td>-0.297164</td>\n",
       "      <td>1.000000</td>\n",
       "      <td>0.194763</td>\n",
       "      <td>0.181585</td>\n",
       "      <td>0.149242</td>\n",
       "      <td>0.129777</td>\n",
       "      <td>0.149559</td>\n",
       "      <td>0.026387</td>\n",
       "      <td>-0.084703</td>\n",
       "    </tr>\n",
       "    <tr>\n",
       "      <th>x</th>\n",
       "      <td>0.001529</td>\n",
       "      <td>0.974898</td>\n",
       "      <td>-0.020876</td>\n",
       "      <td>0.194763</td>\n",
       "      <td>1.000000</td>\n",
       "      <td>0.967114</td>\n",
       "      <td>0.965114</td>\n",
       "      <td>0.884089</td>\n",
       "      <td>0.025532</td>\n",
       "      <td>0.267955</td>\n",
       "      <td>-0.224169</td>\n",
       "    </tr>\n",
       "    <tr>\n",
       "      <th>y</th>\n",
       "      <td>0.001976</td>\n",
       "      <td>0.944513</td>\n",
       "      <td>-0.025105</td>\n",
       "      <td>0.181585</td>\n",
       "      <td>0.967114</td>\n",
       "      <td>1.000000</td>\n",
       "      <td>0.940678</td>\n",
       "      <td>0.858536</td>\n",
       "      <td>0.030438</td>\n",
       "      <td>0.259464</td>\n",
       "      <td>-0.214578</td>\n",
       "    </tr>\n",
       "    <tr>\n",
       "      <th>z</th>\n",
       "      <td>0.004030</td>\n",
       "      <td>0.947538</td>\n",
       "      <td>0.099375</td>\n",
       "      <td>0.149242</td>\n",
       "      <td>0.965114</td>\n",
       "      <td>0.940678</td>\n",
       "      <td>1.000000</td>\n",
       "      <td>0.855923</td>\n",
       "      <td>0.005945</td>\n",
       "      <td>0.263969</td>\n",
       "      <td>-0.221445</td>\n",
       "    </tr>\n",
       "    <tr>\n",
       "      <th>price</th>\n",
       "      <td>0.006826</td>\n",
       "      <td>0.922567</td>\n",
       "      <td>-0.005105</td>\n",
       "      <td>0.129777</td>\n",
       "      <td>0.884089</td>\n",
       "      <td>0.858536</td>\n",
       "      <td>0.855923</td>\n",
       "      <td>1.000000</td>\n",
       "      <td>0.040733</td>\n",
       "      <td>0.171269</td>\n",
       "      <td>-0.072106</td>\n",
       "    </tr>\n",
       "    <tr>\n",
       "      <th>cut_numeric</th>\n",
       "      <td>0.001979</td>\n",
       "      <td>0.020662</td>\n",
       "      <td>-0.188766</td>\n",
       "      <td>0.149559</td>\n",
       "      <td>0.025532</td>\n",
       "      <td>0.030438</td>\n",
       "      <td>0.005945</td>\n",
       "      <td>0.040733</td>\n",
       "      <td>1.000000</td>\n",
       "      <td>0.002828</td>\n",
       "      <td>0.025718</td>\n",
       "    </tr>\n",
       "    <tr>\n",
       "      <th>color_numeric</th>\n",
       "      <td>-0.007942</td>\n",
       "      <td>0.289150</td>\n",
       "      <td>0.046420</td>\n",
       "      <td>0.026387</td>\n",
       "      <td>0.267955</td>\n",
       "      <td>0.259464</td>\n",
       "      <td>0.263969</td>\n",
       "      <td>0.171269</td>\n",
       "      <td>0.002828</td>\n",
       "      <td>1.000000</td>\n",
       "      <td>-0.025578</td>\n",
       "    </tr>\n",
       "    <tr>\n",
       "      <th>clarity_numeric</th>\n",
       "      <td>0.002959</td>\n",
       "      <td>-0.212821</td>\n",
       "      <td>-0.054104</td>\n",
       "      <td>-0.084703</td>\n",
       "      <td>-0.224169</td>\n",
       "      <td>-0.214578</td>\n",
       "      <td>-0.221445</td>\n",
       "      <td>-0.072106</td>\n",
       "      <td>0.025718</td>\n",
       "      <td>-0.025578</td>\n",
       "      <td>1.000000</td>\n",
       "    </tr>\n",
       "  </tbody>\n",
       "</table>\n",
       "</div>"
      ],
      "text/plain": [
       "                       id     carat     depth     table         x         y  \\\n",
       "id               1.000000  0.002653  0.002349 -0.006281  0.001529  0.001976   \n",
       "carat            0.002653  1.000000  0.032379  0.181791  0.974898  0.944513   \n",
       "depth            0.002349  0.032379  1.000000 -0.297164 -0.020876 -0.025105   \n",
       "table           -0.006281  0.181791 -0.297164  1.000000  0.194763  0.181585   \n",
       "x                0.001529  0.974898 -0.020876  0.194763  1.000000  0.967114   \n",
       "y                0.001976  0.944513 -0.025105  0.181585  0.967114  1.000000   \n",
       "z                0.004030  0.947538  0.099375  0.149242  0.965114  0.940678   \n",
       "price            0.006826  0.922567 -0.005105  0.129777  0.884089  0.858536   \n",
       "cut_numeric      0.001979  0.020662 -0.188766  0.149559  0.025532  0.030438   \n",
       "color_numeric   -0.007942  0.289150  0.046420  0.026387  0.267955  0.259464   \n",
       "clarity_numeric  0.002959 -0.212821 -0.054104 -0.084703 -0.224169 -0.214578   \n",
       "\n",
       "                        z     price  cut_numeric  color_numeric  \\\n",
       "id               0.004030  0.006826     0.001979      -0.007942   \n",
       "carat            0.947538  0.922567     0.020662       0.289150   \n",
       "depth            0.099375 -0.005105    -0.188766       0.046420   \n",
       "table            0.149242  0.129777     0.149559       0.026387   \n",
       "x                0.965114  0.884089     0.025532       0.267955   \n",
       "y                0.940678  0.858536     0.030438       0.259464   \n",
       "z                1.000000  0.855923     0.005945       0.263969   \n",
       "price            0.855923  1.000000     0.040733       0.171269   \n",
       "cut_numeric      0.005945  0.040733     1.000000       0.002828   \n",
       "color_numeric    0.263969  0.171269     0.002828       1.000000   \n",
       "clarity_numeric -0.221445 -0.072106     0.025718      -0.025578   \n",
       "\n",
       "                 clarity_numeric  \n",
       "id                      0.002959  \n",
       "carat                  -0.212821  \n",
       "depth                  -0.054104  \n",
       "table                  -0.084703  \n",
       "x                      -0.224169  \n",
       "y                      -0.214578  \n",
       "z                      -0.221445  \n",
       "price                  -0.072106  \n",
       "cut_numeric             0.025718  \n",
       "color_numeric          -0.025578  \n",
       "clarity_numeric         1.000000  "
      ]
     },
     "execution_count": 58,
     "metadata": {},
     "output_type": "execute_result"
    }
   ],
   "source": [
    "train_clean.corr()"
   ]
  },
  {
   "cell_type": "markdown",
   "metadata": {},
   "source": [
    "**Encode manually with map and dictionary**"
   ]
  },
  {
   "cell_type": "code",
   "execution_count": 53,
   "metadata": {},
   "outputs": [],
   "source": [
    "#Encodimng manually - worst to best (same correlation)\n",
    "cut = {\"Fair\":1, \"Good\":2, \"Very Good\":3, \"Premium\":4, \"Ideal\":5}\n",
    "color = {\"D\":1, \"E\":2, \"F\":3, \"G\":4, \"H\":5, \"I\":6, \"J\":7}\n",
    "clarity = {\"I1\":1, \"SI2\":2, \"SI1\":3, \"VS2\":4, \"VS1\":5, \"VVS2\":6, \"VVS1\":7, \"IF\":8}"
   ]
  },
  {
   "cell_type": "code",
   "execution_count": 55,
   "metadata": {},
   "outputs": [],
   "source": [
    "train_c = train.copy()\n",
    "train_c[\"cut\"] = train_c[\"cut\"].map(cut)\n",
    "train_c[\"color\"] = train_c[\"color\"].map(color)\n",
    "train_c[\"clarity\"] = train_c[\"clarity\"].map(clarity)"
   ]
  },
  {
   "cell_type": "code",
   "execution_count": 59,
   "metadata": {},
   "outputs": [
    {
     "data": {
      "text/html": [
       "<div>\n",
       "<style scoped>\n",
       "    .dataframe tbody tr th:only-of-type {\n",
       "        vertical-align: middle;\n",
       "    }\n",
       "\n",
       "    .dataframe tbody tr th {\n",
       "        vertical-align: top;\n",
       "    }\n",
       "\n",
       "    .dataframe thead th {\n",
       "        text-align: right;\n",
       "    }\n",
       "</style>\n",
       "<table border=\"1\" class=\"dataframe\">\n",
       "  <thead>\n",
       "    <tr style=\"text-align: right;\">\n",
       "      <th></th>\n",
       "      <th>id</th>\n",
       "      <th>carat</th>\n",
       "      <th>cut</th>\n",
       "      <th>color</th>\n",
       "      <th>clarity</th>\n",
       "      <th>depth</th>\n",
       "      <th>table</th>\n",
       "      <th>x</th>\n",
       "      <th>y</th>\n",
       "      <th>z</th>\n",
       "      <th>price</th>\n",
       "    </tr>\n",
       "  </thead>\n",
       "  <tbody>\n",
       "    <tr>\n",
       "      <th>id</th>\n",
       "      <td>1.000000</td>\n",
       "      <td>0.002653</td>\n",
       "      <td>0.005771</td>\n",
       "      <td>-0.007942</td>\n",
       "      <td>0.001663</td>\n",
       "      <td>0.002349</td>\n",
       "      <td>-0.006281</td>\n",
       "      <td>0.001529</td>\n",
       "      <td>0.001976</td>\n",
       "      <td>0.004030</td>\n",
       "      <td>0.006826</td>\n",
       "    </tr>\n",
       "    <tr>\n",
       "      <th>carat</th>\n",
       "      <td>0.002653</td>\n",
       "      <td>1.000000</td>\n",
       "      <td>-0.134795</td>\n",
       "      <td>0.289150</td>\n",
       "      <td>-0.350963</td>\n",
       "      <td>0.032379</td>\n",
       "      <td>0.181791</td>\n",
       "      <td>0.974898</td>\n",
       "      <td>0.944513</td>\n",
       "      <td>0.947538</td>\n",
       "      <td>0.922567</td>\n",
       "    </tr>\n",
       "    <tr>\n",
       "      <th>cut</th>\n",
       "      <td>0.005771</td>\n",
       "      <td>-0.134795</td>\n",
       "      <td>1.000000</td>\n",
       "      <td>-0.022033</td>\n",
       "      <td>0.184704</td>\n",
       "      <td>-0.215764</td>\n",
       "      <td>-0.431573</td>\n",
       "      <td>-0.125150</td>\n",
       "      <td>-0.120065</td>\n",
       "      <td>-0.148201</td>\n",
       "      <td>-0.054962</td>\n",
       "    </tr>\n",
       "    <tr>\n",
       "      <th>color</th>\n",
       "      <td>-0.007942</td>\n",
       "      <td>0.289150</td>\n",
       "      <td>-0.022033</td>\n",
       "      <td>1.000000</td>\n",
       "      <td>0.030075</td>\n",
       "      <td>0.046420</td>\n",
       "      <td>0.026387</td>\n",
       "      <td>0.267955</td>\n",
       "      <td>0.259464</td>\n",
       "      <td>0.263969</td>\n",
       "      <td>0.171269</td>\n",
       "    </tr>\n",
       "    <tr>\n",
       "      <th>clarity</th>\n",
       "      <td>0.001663</td>\n",
       "      <td>-0.350963</td>\n",
       "      <td>0.184704</td>\n",
       "      <td>0.030075</td>\n",
       "      <td>1.000000</td>\n",
       "      <td>-0.069356</td>\n",
       "      <td>-0.155587</td>\n",
       "      <td>-0.370284</td>\n",
       "      <td>-0.354168</td>\n",
       "      <td>-0.363065</td>\n",
       "      <td>-0.146770</td>\n",
       "    </tr>\n",
       "    <tr>\n",
       "      <th>depth</th>\n",
       "      <td>0.002349</td>\n",
       "      <td>0.032379</td>\n",
       "      <td>-0.215764</td>\n",
       "      <td>0.046420</td>\n",
       "      <td>-0.069356</td>\n",
       "      <td>1.000000</td>\n",
       "      <td>-0.297164</td>\n",
       "      <td>-0.020876</td>\n",
       "      <td>-0.025105</td>\n",
       "      <td>0.099375</td>\n",
       "      <td>-0.005105</td>\n",
       "    </tr>\n",
       "    <tr>\n",
       "      <th>table</th>\n",
       "      <td>-0.006281</td>\n",
       "      <td>0.181791</td>\n",
       "      <td>-0.431573</td>\n",
       "      <td>0.026387</td>\n",
       "      <td>-0.155587</td>\n",
       "      <td>-0.297164</td>\n",
       "      <td>1.000000</td>\n",
       "      <td>0.194763</td>\n",
       "      <td>0.181585</td>\n",
       "      <td>0.149242</td>\n",
       "      <td>0.129777</td>\n",
       "    </tr>\n",
       "    <tr>\n",
       "      <th>x</th>\n",
       "      <td>0.001529</td>\n",
       "      <td>0.974898</td>\n",
       "      <td>-0.125150</td>\n",
       "      <td>0.267955</td>\n",
       "      <td>-0.370284</td>\n",
       "      <td>-0.020876</td>\n",
       "      <td>0.194763</td>\n",
       "      <td>1.000000</td>\n",
       "      <td>0.967114</td>\n",
       "      <td>0.965114</td>\n",
       "      <td>0.884089</td>\n",
       "    </tr>\n",
       "    <tr>\n",
       "      <th>y</th>\n",
       "      <td>0.001976</td>\n",
       "      <td>0.944513</td>\n",
       "      <td>-0.120065</td>\n",
       "      <td>0.259464</td>\n",
       "      <td>-0.354168</td>\n",
       "      <td>-0.025105</td>\n",
       "      <td>0.181585</td>\n",
       "      <td>0.967114</td>\n",
       "      <td>1.000000</td>\n",
       "      <td>0.940678</td>\n",
       "      <td>0.858536</td>\n",
       "    </tr>\n",
       "    <tr>\n",
       "      <th>z</th>\n",
       "      <td>0.004030</td>\n",
       "      <td>0.947538</td>\n",
       "      <td>-0.148201</td>\n",
       "      <td>0.263969</td>\n",
       "      <td>-0.363065</td>\n",
       "      <td>0.099375</td>\n",
       "      <td>0.149242</td>\n",
       "      <td>0.965114</td>\n",
       "      <td>0.940678</td>\n",
       "      <td>1.000000</td>\n",
       "      <td>0.855923</td>\n",
       "    </tr>\n",
       "    <tr>\n",
       "      <th>price</th>\n",
       "      <td>0.006826</td>\n",
       "      <td>0.922567</td>\n",
       "      <td>-0.054962</td>\n",
       "      <td>0.171269</td>\n",
       "      <td>-0.146770</td>\n",
       "      <td>-0.005105</td>\n",
       "      <td>0.129777</td>\n",
       "      <td>0.884089</td>\n",
       "      <td>0.858536</td>\n",
       "      <td>0.855923</td>\n",
       "      <td>1.000000</td>\n",
       "    </tr>\n",
       "  </tbody>\n",
       "</table>\n",
       "</div>"
      ],
      "text/plain": [
       "               id     carat       cut     color   clarity     depth     table  \\\n",
       "id       1.000000  0.002653  0.005771 -0.007942  0.001663  0.002349 -0.006281   \n",
       "carat    0.002653  1.000000 -0.134795  0.289150 -0.350963  0.032379  0.181791   \n",
       "cut      0.005771 -0.134795  1.000000 -0.022033  0.184704 -0.215764 -0.431573   \n",
       "color   -0.007942  0.289150 -0.022033  1.000000  0.030075  0.046420  0.026387   \n",
       "clarity  0.001663 -0.350963  0.184704  0.030075  1.000000 -0.069356 -0.155587   \n",
       "depth    0.002349  0.032379 -0.215764  0.046420 -0.069356  1.000000 -0.297164   \n",
       "table   -0.006281  0.181791 -0.431573  0.026387 -0.155587 -0.297164  1.000000   \n",
       "x        0.001529  0.974898 -0.125150  0.267955 -0.370284 -0.020876  0.194763   \n",
       "y        0.001976  0.944513 -0.120065  0.259464 -0.354168 -0.025105  0.181585   \n",
       "z        0.004030  0.947538 -0.148201  0.263969 -0.363065  0.099375  0.149242   \n",
       "price    0.006826  0.922567 -0.054962  0.171269 -0.146770 -0.005105  0.129777   \n",
       "\n",
       "                x         y         z     price  \n",
       "id       0.001529  0.001976  0.004030  0.006826  \n",
       "carat    0.974898  0.944513  0.947538  0.922567  \n",
       "cut     -0.125150 -0.120065 -0.148201 -0.054962  \n",
       "color    0.267955  0.259464  0.263969  0.171269  \n",
       "clarity -0.370284 -0.354168 -0.363065 -0.146770  \n",
       "depth   -0.020876 -0.025105  0.099375 -0.005105  \n",
       "table    0.194763  0.181585  0.149242  0.129777  \n",
       "x        1.000000  0.967114  0.965114  0.884089  \n",
       "y        0.967114  1.000000  0.940678  0.858536  \n",
       "z        0.965114  0.940678  1.000000  0.855923  \n",
       "price    0.884089  0.858536  0.855923  1.000000  "
      ]
     },
     "execution_count": 59,
     "metadata": {},
     "output_type": "execute_result"
    }
   ],
   "source": [
    "train_c.corr()"
   ]
  },
  {
   "cell_type": "markdown",
   "metadata": {},
   "source": [
    "## Initial Attempt - Tree . Extra Tree Classifier"
   ]
  },
  {
   "cell_type": "code",
   "execution_count": 17,
   "metadata": {},
   "outputs": [],
   "source": [
    "from sklearn.model_selection import train_test_split\n",
    "from sklearn.tree import ExtraTreeClassifier"
   ]
  },
  {
   "cell_type": "code",
   "execution_count": 18,
   "metadata": {},
   "outputs": [],
   "source": [
    "X_train, X_test, y_train, y_test = split(train_clean)"
   ]
  },
  {
   "cell_type": "code",
   "execution_count": 19,
   "metadata": {},
   "outputs": [
    {
     "data": {
      "text/plain": [
       "ExtraTreeClassifier()"
      ]
     },
     "execution_count": 19,
     "metadata": {},
     "output_type": "execute_result"
    }
   ],
   "source": [
    "auto_model = ExtraTreeClassifier()  \n",
    "auto_model.fit(X_train, y_train)"
   ]
  },
  {
   "cell_type": "code",
   "execution_count": 20,
   "metadata": {},
   "outputs": [],
   "source": [
    "y_pred = auto_model.predict(X_test)"
   ]
  },
  {
   "cell_type": "code",
   "execution_count": 21,
   "metadata": {},
   "outputs": [],
   "source": [
    "results = pd.DataFrame(y_pred, columns=[\"Prediction\"])\n",
    "results[\"Ground Truth\"] = list(y_test)"
   ]
  },
  {
   "cell_type": "markdown",
   "metadata": {},
   "source": [
    "**The mean_squared_error function computes mean square error,   \n",
    "a risk metric corresponding to the expected value of the squared   \n",
    "(quadratic) error or loss**\n"
   ]
  },
  {
   "cell_type": "code",
   "execution_count": 22,
   "metadata": {},
   "outputs": [
    {
     "name": "stdout",
     "output_type": "stream",
     "text": [
      "\t Accuracy: 0.073\n",
      "\t Precision: 0.078\n",
      "\t Recall: 0.073\n",
      "\t F1Score: 0.071\n",
      "\t Mean Square Error: 1840610.468\n",
      "\t Root Mean Square Error: 1356.691\n"
     ]
    },
    {
     "name": "stderr",
     "output_type": "stream",
     "text": [
      "/usr/local/lib/python3.7/site-packages/sklearn/metrics/_classification.py:1221: UndefinedMetricWarning: Precision is ill-defined and being set to 0.0 in labels with no predicted samples. Use `zero_division` parameter to control this behavior.\n",
      "  _warn_prf(average, modifier, msg_start, len(result))\n",
      "/usr/local/lib/python3.7/site-packages/sklearn/metrics/_classification.py:1221: UndefinedMetricWarning: Recall is ill-defined and being set to 0.0 in labels with no true samples. Use `zero_division` parameter to control this behavior.\n",
      "  _warn_prf(average, modifier, msg_start, len(result))\n"
     ]
    }
   ],
   "source": [
    "printMetrics(y_test,y_pred)"
   ]
  },
  {
   "cell_type": "markdown",
   "metadata": {},
   "source": [
    "# Cleaning the data\n",
    "\n",
    "### Features\n"
   ]
  },
  {
   "cell_type": "code",
   "execution_count": 60,
   "metadata": {},
   "outputs": [],
   "source": [
    "#all features except id\n",
    "features_0 = ['carat','table','x','y','z','price','color_numeric','cut_numeric', 'clarity_numeric', 'depth']\n",
    "\n",
    "#getting rid of id, depth\n",
    "features_1 = ['carat','table','x','y','z','price','color_numeric','cut_numeric', 'clarity_numeric']\n",
    "\n",
    "#getting rid of id, depth, cut_numeric, clarity_numeric\n",
    "features_2 = ['carat','table','x','y','z','price','color_numeric']\n",
    "\n",
    "#getting rid of id, x, y, z\n",
    "features_3 = ['carat','table','depth','price','color_numeric','cut_numeric', 'clarity_numeric']\n",
    "\n",
    "#getting rid of id, depth, cut_numeric, clarity_numeric, table, color_numeric\n",
    "features_4 = ['carat','x','y','z','price']"
   ]
  },
  {
   "cell_type": "markdown",
   "metadata": {},
   "source": [
    "# Testing Different Model Metrics  \n",
    "  \n",
    "### DecisionTreeClassifier"
   ]
  },
  {
   "cell_type": "code",
   "execution_count": 24,
   "metadata": {},
   "outputs": [],
   "source": [
    "from sklearn.model_selection import cross_val_score\n",
    "from sklearn.tree import DecisionTreeClassifier"
   ]
  },
  {
   "cell_type": "code",
   "execution_count": 136,
   "metadata": {},
   "outputs": [
    {
     "name": "stdout",
     "output_type": "stream",
     "text": [
      "\t Accuracy: 0.141\n",
      "\t Precision: 0.155\n",
      "\t Recall: 0.141\n",
      "\t F1Score: 0.139\n",
      "\t Mean Square Error: 1482087.151\n",
      "\t Root Mean Square Error: 1217.41\n"
     ]
    },
    {
     "name": "stderr",
     "output_type": "stream",
     "text": [
      "/usr/local/lib/python3.7/site-packages/sklearn/metrics/_classification.py:1221: UndefinedMetricWarning: Precision is ill-defined and being set to 0.0 in labels with no predicted samples. Use `zero_division` parameter to control this behavior.\n",
      "  _warn_prf(average, modifier, msg_start, len(result))\n",
      "/usr/local/lib/python3.7/site-packages/sklearn/metrics/_classification.py:1221: UndefinedMetricWarning: Recall is ill-defined and being set to 0.0 in labels with no true samples. Use `zero_division` parameter to control this behavior.\n",
      "  _warn_prf(average, modifier, msg_start, len(result))\n"
     ]
    }
   ],
   "source": [
    "#Features_All\n",
    "csv = train_clean[features_0]\n",
    "csv.shape\n",
    "X_train, X_test, y_train, y_test = split(csv)\n",
    "y_pred = fitModel(DecisionTreeClassifier(random_state=0))\n",
    "printMetrics(y_test,y_pred)\n"
   ]
  },
  {
   "cell_type": "code",
   "execution_count": 137,
   "metadata": {},
   "outputs": [
    {
     "data": {
      "text/plain": [
       "[<matplotlib.lines.Line2D at 0x12cd06d50>]"
      ]
     },
     "execution_count": 137,
     "metadata": {},
     "output_type": "execute_result"
    },
    {
     "data": {
      "image/png": "[encoded data removed]",
      "text/plain": [
       "<Figure size 432x288 with 1 Axes>"
      ]
     },
     "metadata": {
      "needs_background": "light"
     },
     "output_type": "display_data"
    }
   ],
   "source": [
    "plt.scatter(y_test,y_pred, s=2, color = \"b\")\n",
    "\n",
    "m, b = np.polyfit(y_test,y_pred, 1)\n",
    "plt.plot(y_test, m*y_test + b, color = \"r\")"
   ]
  },
  {
   "cell_type": "code",
   "execution_count": 27,
   "metadata": {},
   "outputs": [
    {
     "name": "stdout",
     "output_type": "stream",
     "text": [
      "\t Accuracy: 0.148\n",
      "\t Precision: 0.167\n",
      "\t Recall: 0.148\n",
      "\t F1Score: 0.148\n",
      "\t Mean Square Error: 1308136.024\n",
      "\t Root Mean Square Error: 1143.738\n"
     ]
    },
    {
     "name": "stderr",
     "output_type": "stream",
     "text": [
      "/usr/local/lib/python3.7/site-packages/sklearn/metrics/_classification.py:1221: UndefinedMetricWarning: Precision is ill-defined and being set to 0.0 in labels with no predicted samples. Use `zero_division` parameter to control this behavior.\n",
      "  _warn_prf(average, modifier, msg_start, len(result))\n",
      "/usr/local/lib/python3.7/site-packages/sklearn/metrics/_classification.py:1221: UndefinedMetricWarning: Recall is ill-defined and being set to 0.0 in labels with no true samples. Use `zero_division` parameter to control this behavior.\n",
      "  _warn_prf(average, modifier, msg_start, len(result))\n"
     ]
    }
   ],
   "source": [
    "#Features_1\n",
    "csv = train_clean[features_1]\n",
    "csv.shape\n",
    "X_train, X_test, y_train, y_test = split(csv)\n",
    "y_pred = fitModel(DecisionTreeClassifier(random_state=0))\n",
    "printMetrics(y_test,y_pred)"
   ]
  },
  {
   "cell_type": "code",
   "execution_count": 28,
   "metadata": {},
   "outputs": [
    {
     "name": "stdout",
     "output_type": "stream",
     "text": [
      "\t Accuracy: 0.054\n",
      "\t Precision: 0.062\n",
      "\t Recall: 0.054\n",
      "\t F1Score: 0.054\n",
      "\t Mean Square Error: 2755981.658\n",
      "\t Root Mean Square Error: 1660.115\n"
     ]
    },
    {
     "name": "stderr",
     "output_type": "stream",
     "text": [
      "/usr/local/lib/python3.7/site-packages/sklearn/metrics/_classification.py:1221: UndefinedMetricWarning: Precision is ill-defined and being set to 0.0 in labels with no predicted samples. Use `zero_division` parameter to control this behavior.\n",
      "  _warn_prf(average, modifier, msg_start, len(result))\n",
      "/usr/local/lib/python3.7/site-packages/sklearn/metrics/_classification.py:1221: UndefinedMetricWarning: Recall is ill-defined and being set to 0.0 in labels with no true samples. Use `zero_division` parameter to control this behavior.\n",
      "  _warn_prf(average, modifier, msg_start, len(result))\n"
     ]
    }
   ],
   "source": [
    "#Features_2\n",
    "csv = train_clean[features_2]\n",
    "csv.shape\n",
    "X_train, X_test, y_train, y_test = split(csv)\n",
    "y_pred = fitModel(DecisionTreeClassifier(random_state=0))\n",
    "printMetrics(y_test,y_pred)\n"
   ]
  },
  {
   "cell_type": "code",
   "execution_count": 29,
   "metadata": {},
   "outputs": [
    {
     "name": "stdout",
     "output_type": "stream",
     "text": [
      "\t Accuracy: 0.089\n",
      "\t Precision: 0.095\n",
      "\t Recall: 0.089\n",
      "\t F1Score: 0.085\n",
      "\t Mean Square Error: 1083699.449\n",
      "\t Root Mean Square Error: 1041.009\n"
     ]
    },
    {
     "name": "stderr",
     "output_type": "stream",
     "text": [
      "/usr/local/lib/python3.7/site-packages/sklearn/metrics/_classification.py:1221: UndefinedMetricWarning: Precision is ill-defined and being set to 0.0 in labels with no predicted samples. Use `zero_division` parameter to control this behavior.\n",
      "  _warn_prf(average, modifier, msg_start, len(result))\n",
      "/usr/local/lib/python3.7/site-packages/sklearn/metrics/_classification.py:1221: UndefinedMetricWarning: Recall is ill-defined and being set to 0.0 in labels with no true samples. Use `zero_division` parameter to control this behavior.\n",
      "  _warn_prf(average, modifier, msg_start, len(result))\n"
     ]
    }
   ],
   "source": [
    "#Features_3\n",
    "csv = train_clean[features_3]\n",
    "csv.shape\n",
    "X_train, X_test, y_train, y_test = split(csv)\n",
    "y_pred = fitModel(DecisionTreeClassifier(random_state=0))\n",
    "printMetrics(y_test,y_pred)"
   ]
  },
  {
   "cell_type": "code",
   "execution_count": 63,
   "metadata": {},
   "outputs": [
    {
     "name": "stdout",
     "output_type": "stream",
     "text": [
      "\t Accuracy: 0.021\n",
      "\t Precision: 0.024\n",
      "\t Recall: 0.021\n",
      "\t F1Score: 0.021\n",
      "\t Mean Square Error: 3509457.45\n",
      "\t Root Mean Square Error: 1873.355\n"
     ]
    },
    {
     "name": "stderr",
     "output_type": "stream",
     "text": [
      "/usr/local/lib/python3.7/site-packages/sklearn/metrics/_classification.py:1221: UndefinedMetricWarning: Precision is ill-defined and being set to 0.0 in labels with no predicted samples. Use `zero_division` parameter to control this behavior.\n",
      "  _warn_prf(average, modifier, msg_start, len(result))\n",
      "/usr/local/lib/python3.7/site-packages/sklearn/metrics/_classification.py:1221: UndefinedMetricWarning: Recall is ill-defined and being set to 0.0 in labels with no true samples. Use `zero_division` parameter to control this behavior.\n",
      "  _warn_prf(average, modifier, msg_start, len(result))\n"
     ]
    }
   ],
   "source": [
    "#Features_4\n",
    "csv = train_clean[features_4]\n",
    "csv.shape\n",
    "X_train, X_test, y_train, y_test = split(csv)\n",
    "y_pred = fitModel(DecisionTreeClassifier(random_state=0))\n",
    "printMetrics(y_test,y_pred)"
   ]
  },
  {
   "cell_type": "markdown",
   "metadata": {},
   "source": [
    "### ExtraTreeClassifier"
   ]
  },
  {
   "cell_type": "code",
   "execution_count": 30,
   "metadata": {},
   "outputs": [],
   "source": [
    "from sklearn.tree import ExtraTreeClassifier"
   ]
  },
  {
   "cell_type": "code",
   "execution_count": 31,
   "metadata": {},
   "outputs": [
    {
     "name": "stdout",
     "output_type": "stream",
     "text": [
      "\t Accuracy: 0.096\n",
      "\t Precision: 0.106\n",
      "\t Recall: 0.096\n",
      "\t F1Score: 0.094\n",
      "\t Mean Square Error: 1544529.048\n",
      "\t Root Mean Square Error: 1242.791\n"
     ]
    },
    {
     "name": "stderr",
     "output_type": "stream",
     "text": [
      "/usr/local/lib/python3.7/site-packages/sklearn/metrics/_classification.py:1221: UndefinedMetricWarning: Precision is ill-defined and being set to 0.0 in labels with no predicted samples. Use `zero_division` parameter to control this behavior.\n",
      "  _warn_prf(average, modifier, msg_start, len(result))\n",
      "/usr/local/lib/python3.7/site-packages/sklearn/metrics/_classification.py:1221: UndefinedMetricWarning: Recall is ill-defined and being set to 0.0 in labels with no true samples. Use `zero_division` parameter to control this behavior.\n",
      "  _warn_prf(average, modifier, msg_start, len(result))\n"
     ]
    }
   ],
   "source": [
    "#Features_0\n",
    "csv = train_clean[features_0]\n",
    "csv.shape\n",
    "X_train, X_test, y_train, y_test = split(csv)\n",
    "y_pred = fitModel(ExtraTreeClassifier())\n",
    "printMetrics(y_test,y_pred)"
   ]
  },
  {
   "cell_type": "code",
   "execution_count": 32,
   "metadata": {},
   "outputs": [
    {
     "name": "stdout",
     "output_type": "stream",
     "text": [
      "\t Accuracy: 0.094\n",
      "\t Precision: 0.102\n",
      "\t Recall: 0.094\n",
      "\t F1Score: 0.092\n",
      "\t Mean Square Error: 1633268.547\n",
      "\t Root Mean Square Error: 1277.994\n"
     ]
    },
    {
     "name": "stderr",
     "output_type": "stream",
     "text": [
      "/usr/local/lib/python3.7/site-packages/sklearn/metrics/_classification.py:1221: UndefinedMetricWarning: Precision is ill-defined and being set to 0.0 in labels with no predicted samples. Use `zero_division` parameter to control this behavior.\n",
      "  _warn_prf(average, modifier, msg_start, len(result))\n",
      "/usr/local/lib/python3.7/site-packages/sklearn/metrics/_classification.py:1221: UndefinedMetricWarning: Recall is ill-defined and being set to 0.0 in labels with no true samples. Use `zero_division` parameter to control this behavior.\n",
      "  _warn_prf(average, modifier, msg_start, len(result))\n"
     ]
    }
   ],
   "source": [
    "#Features_1\n",
    "csv = train_clean[features_1]\n",
    "csv.shape\n",
    "X_train, X_test, y_train, y_test = split(csv)\n",
    "y_pred = fitModel(ExtraTreeClassifier())\n",
    "printMetrics(y_test,y_pred)"
   ]
  },
  {
   "cell_type": "code",
   "execution_count": 33,
   "metadata": {},
   "outputs": [
    {
     "name": "stdout",
     "output_type": "stream",
     "text": [
      "\t Accuracy: 0.042\n",
      "\t Precision: 0.047\n",
      "\t Recall: 0.042\n",
      "\t F1Score: 0.041\n",
      "\t Mean Square Error: 2616819.138\n",
      "\t Root Mean Square Error: 1617.659\n"
     ]
    },
    {
     "name": "stderr",
     "output_type": "stream",
     "text": [
      "/usr/local/lib/python3.7/site-packages/sklearn/metrics/_classification.py:1221: UndefinedMetricWarning: Precision is ill-defined and being set to 0.0 in labels with no predicted samples. Use `zero_division` parameter to control this behavior.\n",
      "  _warn_prf(average, modifier, msg_start, len(result))\n",
      "/usr/local/lib/python3.7/site-packages/sklearn/metrics/_classification.py:1221: UndefinedMetricWarning: Recall is ill-defined and being set to 0.0 in labels with no true samples. Use `zero_division` parameter to control this behavior.\n",
      "  _warn_prf(average, modifier, msg_start, len(result))\n"
     ]
    }
   ],
   "source": [
    "#Features_2\n",
    "csv = train_clean[features_2]\n",
    "csv.shape\n",
    "X_train, X_test, y_train, y_test = split(csv)\n",
    "y_pred = fitModel(ExtraTreeClassifier())\n",
    "printMetrics(y_test,y_pred)"
   ]
  },
  {
   "cell_type": "code",
   "execution_count": 34,
   "metadata": {},
   "outputs": [
    {
     "name": "stdout",
     "output_type": "stream",
     "text": [
      "\t Accuracy: 0.045\n",
      "\t Precision: 0.049\n",
      "\t Recall: 0.045\n",
      "\t F1Score: 0.043\n",
      "\t Mean Square Error: 2487258.905\n",
      "\t Root Mean Square Error: 1577.105\n"
     ]
    },
    {
     "name": "stderr",
     "output_type": "stream",
     "text": [
      "/usr/local/lib/python3.7/site-packages/sklearn/metrics/_classification.py:1221: UndefinedMetricWarning: Precision is ill-defined and being set to 0.0 in labels with no predicted samples. Use `zero_division` parameter to control this behavior.\n",
      "  _warn_prf(average, modifier, msg_start, len(result))\n",
      "/usr/local/lib/python3.7/site-packages/sklearn/metrics/_classification.py:1221: UndefinedMetricWarning: Recall is ill-defined and being set to 0.0 in labels with no true samples. Use `zero_division` parameter to control this behavior.\n",
      "  _warn_prf(average, modifier, msg_start, len(result))\n"
     ]
    }
   ],
   "source": [
    "#Features_3\n",
    "csv = train_clean[features_3]\n",
    "csv.shape\n",
    "X_train, X_test, y_train, y_test = split(csv)\n",
    "y_pred = fitModel(ExtraTreeClassifier())\n",
    "printMetrics(y_test,y_pred)"
   ]
  },
  {
   "cell_type": "markdown",
   "metadata": {},
   "source": [
    "### KNeighborsClassifier"
   ]
  },
  {
   "cell_type": "code",
   "execution_count": 35,
   "metadata": {},
   "outputs": [],
   "source": [
    "from sklearn.neighbors import KNeighborsClassifier"
   ]
  },
  {
   "cell_type": "code",
   "execution_count": 36,
   "metadata": {},
   "outputs": [
    {
     "name": "stdout",
     "output_type": "stream",
     "text": [
      "\t Accuracy: 0.029\n",
      "\t Precision: 0.031\n",
      "\t Recall: 0.029\n",
      "\t F1Score: 0.027\n",
      "\t Mean Square Error: 2140266.729\n",
      "\t Root Mean Square Error: 1462.965\n"
     ]
    },
    {
     "name": "stderr",
     "output_type": "stream",
     "text": [
      "/usr/local/lib/python3.7/site-packages/sklearn/metrics/_classification.py:1221: UndefinedMetricWarning: Precision is ill-defined and being set to 0.0 in labels with no predicted samples. Use `zero_division` parameter to control this behavior.\n",
      "  _warn_prf(average, modifier, msg_start, len(result))\n",
      "/usr/local/lib/python3.7/site-packages/sklearn/metrics/_classification.py:1221: UndefinedMetricWarning: Recall is ill-defined and being set to 0.0 in labels with no true samples. Use `zero_division` parameter to control this behavior.\n",
      "  _warn_prf(average, modifier, msg_start, len(result))\n"
     ]
    }
   ],
   "source": [
    "#Features_0\n",
    "\n",
    "csv = train_clean[features_0]\n",
    "csv.shape\n",
    "X_train, X_test, y_train, y_test = split(csv)\n",
    "y_pred = fitModel(KNeighborsClassifier(n_neighbors=3))\n",
    "printMetrics(y_test,y_pred)"
   ]
  },
  {
   "cell_type": "code",
   "execution_count": 138,
   "metadata": {},
   "outputs": [
    {
     "name": "stdout",
     "output_type": "stream",
     "text": [
      "\t Accuracy: 0.063\n",
      "\t Precision: 0.073\n",
      "\t Recall: 0.063\n",
      "\t F1Score: 0.061\n",
      "\t Mean Square Error: 1548110.36\n",
      "\t Root Mean Square Error: 1244.231\n"
     ]
    },
    {
     "name": "stderr",
     "output_type": "stream",
     "text": [
      "/usr/local/lib/python3.7/site-packages/sklearn/metrics/_classification.py:1221: UndefinedMetricWarning: Precision is ill-defined and being set to 0.0 in labels with no predicted samples. Use `zero_division` parameter to control this behavior.\n",
      "  _warn_prf(average, modifier, msg_start, len(result))\n",
      "/usr/local/lib/python3.7/site-packages/sklearn/metrics/_classification.py:1221: UndefinedMetricWarning: Recall is ill-defined and being set to 0.0 in labels with no true samples. Use `zero_division` parameter to control this behavior.\n",
      "  _warn_prf(average, modifier, msg_start, len(result))\n"
     ]
    }
   ],
   "source": [
    "#Features_1\n",
    "csv = train_clean[features_1]\n",
    "csv.shape\n",
    "X_train, X_test, y_train, y_test = split(csv)\n",
    "y_pred = fitModel(KNeighborsClassifier(n_neighbors=3))\n",
    "printMetrics(y_test,y_pred)"
   ]
  },
  {
   "cell_type": "code",
   "execution_count": 139,
   "metadata": {},
   "outputs": [
    {
     "data": {
      "text/plain": [
       "[<matplotlib.lines.Line2D at 0x12d7df990>]"
      ]
     },
     "execution_count": 139,
     "metadata": {},
     "output_type": "execute_result"
    },
    {
     "data": {
      "image/png": "[encoded data removed]",
      "text/plain": [
       "<Figure size 432x288 with 1 Axes>"
      ]
     },
     "metadata": {
      "needs_background": "light"
     },
     "output_type": "display_data"
    }
   ],
   "source": [
    "plt.scatter(y_test,y_pred, s=1)\n",
    "\n",
    "m, b = np.polyfit(y_test,y_pred, 1)\n",
    "plt.plot(y_test, m*y_test + b, color = \"r\")"
   ]
  },
  {
   "cell_type": "code",
   "execution_count": 39,
   "metadata": {},
   "outputs": [
    {
     "name": "stdout",
     "output_type": "stream",
     "text": [
      "<class 'pandas.core.series.Series'> <class 'numpy.ndarray'>\n",
      "\t Accuracy: 0.033\n",
      "\t Precision: 0.036\n",
      "\t Recall: 0.033\n",
      "\t F1Score: 0.031\n",
      "\t Mean Square Error: 2868167.404\n",
      "\t Root Mean Square Error: 1693.566\n"
     ]
    },
    {
     "name": "stderr",
     "output_type": "stream",
     "text": [
      "/usr/local/lib/python3.7/site-packages/sklearn/metrics/_classification.py:1221: UndefinedMetricWarning: Precision is ill-defined and being set to 0.0 in labels with no predicted samples. Use `zero_division` parameter to control this behavior.\n",
      "  _warn_prf(average, modifier, msg_start, len(result))\n",
      "/usr/local/lib/python3.7/site-packages/sklearn/metrics/_classification.py:1221: UndefinedMetricWarning: Recall is ill-defined and being set to 0.0 in labels with no true samples. Use `zero_division` parameter to control this behavior.\n",
      "  _warn_prf(average, modifier, msg_start, len(result))\n"
     ]
    }
   ],
   "source": [
    "#Features_2\n",
    "csv = train_clean[features_2]\n",
    "csv.shape\n",
    "X_train, X_test, y_train, y_test = split(csv)\n",
    "y_pred = fitModel(KNeighborsClassifier(n_neighbors=3))\n",
    "print(type(y_test),type(y_pred))\n",
    "printMetrics(y_test,y_pred)"
   ]
  },
  {
   "cell_type": "markdown",
   "metadata": {},
   "source": [
    "### DecisionTreeRegressor"
   ]
  },
  {
   "cell_type": "code",
   "execution_count": 87,
   "metadata": {},
   "outputs": [],
   "source": [
    "from sklearn.tree import DecisionTreeRegressor"
   ]
  },
  {
   "cell_type": "code",
   "execution_count": 140,
   "metadata": {},
   "outputs": [],
   "source": [
    "csv = train_clean[features_0]\n",
    "csv\n",
    "X_train, X_test, y_train, y_test = split(csv)\n",
    "y_pred = fitModel(DecisionTreeRegressor())\n",
    "y_pred = y_pred.round()"
   ]
  },
  {
   "cell_type": "code",
   "execution_count": 141,
   "metadata": {},
   "outputs": [
    {
     "data": {
      "text/plain": [
       "[<matplotlib.lines.Line2D at 0x259f75590>]"
      ]
     },
     "execution_count": 141,
     "metadata": {},
     "output_type": "execute_result"
    },
    {
     "data": {
      "image/png": "[encoded data removed]",
      "text/plain": [
       "<Figure size 432x288 with 1 Axes>"
      ]
     },
     "metadata": {
      "needs_background": "light"
     },
     "output_type": "display_data"
    }
   ],
   "source": [
    "plt.scatter(y_test,y_pred, s=1, color = \"y\")\n",
    "\n",
    "m, b = np.polyfit(y_test,y_pred, 1)\n",
    "plt.plot(y_test, m*y_test + b, color = \"r\")"
   ]
  },
  {
   "cell_type": "code",
   "execution_count": 89,
   "metadata": {},
   "outputs": [
    {
     "name": "stdout",
     "output_type": "stream",
     "text": [
      "\t Accuracy: 0.12\n",
      "\t Precision: 0.135\n",
      "\t Recall: 0.12\n",
      "\t F1Score: 0.119\n",
      "\t Mean Square Error: 559915.435\n",
      "\t Root Mean Square Error: 748.275\n"
     ]
    },
    {
     "name": "stderr",
     "output_type": "stream",
     "text": [
      "/usr/local/lib/python3.7/site-packages/sklearn/metrics/_classification.py:1221: UndefinedMetricWarning: Precision is ill-defined and being set to 0.0 in labels with no predicted samples. Use `zero_division` parameter to control this behavior.\n",
      "  _warn_prf(average, modifier, msg_start, len(result))\n",
      "/usr/local/lib/python3.7/site-packages/sklearn/metrics/_classification.py:1221: UndefinedMetricWarning: Recall is ill-defined and being set to 0.0 in labels with no true samples. Use `zero_division` parameter to control this behavior.\n",
      "  _warn_prf(average, modifier, msg_start, len(result))\n"
     ]
    }
   ],
   "source": [
    "printMetrics(y_test,y_pred)"
   ]
  },
  {
   "cell_type": "markdown",
   "metadata": {},
   "source": [
    "### RandomForestRegressor\n"
   ]
  },
  {
   "cell_type": "code",
   "execution_count": 40,
   "metadata": {},
   "outputs": [],
   "source": [
    "from sklearn.ensemble import RandomForestRegressor\n",
    "from sklearn.datasets import make_regression"
   ]
  },
  {
   "cell_type": "code",
   "execution_count": 142,
   "metadata": {},
   "outputs": [
    {
     "name": "stdout",
     "output_type": "stream",
     "text": [
      "\t Accuracy: 0.005\n",
      "\t Precision: 0.012\n",
      "\t Recall: 0.005\n",
      "\t F1Score: 0.006\n",
      "\t Mean Square Error: 314167.476\n",
      "\t Root Mean Square Error: 560.506\n"
     ]
    },
    {
     "name": "stderr",
     "output_type": "stream",
     "text": [
      "/usr/local/lib/python3.7/site-packages/sklearn/metrics/_classification.py:1221: UndefinedMetricWarning: Precision is ill-defined and being set to 0.0 in labels with no predicted samples. Use `zero_division` parameter to control this behavior.\n",
      "  _warn_prf(average, modifier, msg_start, len(result))\n",
      "/usr/local/lib/python3.7/site-packages/sklearn/metrics/_classification.py:1221: UndefinedMetricWarning: Recall is ill-defined and being set to 0.0 in labels with no true samples. Use `zero_division` parameter to control this behavior.\n",
      "  _warn_prf(average, modifier, msg_start, len(result))\n"
     ]
    }
   ],
   "source": [
    "#Features_0\n",
    "\n",
    "csv = train_clean[features_0]\n",
    "csv\n",
    "X_train, X_test, y_train, y_test = split(csv)\n",
    "y_pred = fitModel(RandomForestRegressor(random_state=0))\n",
    "y_pred = y_pred.round()\n",
    "printMetrics(y_test,y_pred)"
   ]
  },
  {
   "cell_type": "code",
   "execution_count": 143,
   "metadata": {},
   "outputs": [
    {
     "data": {
      "text/plain": [
       "[<matplotlib.lines.Line2D at 0x258ed42d0>]"
      ]
     },
     "execution_count": 143,
     "metadata": {},
     "output_type": "execute_result"
    },
    {
     "data": {
      "image/png": "[encoded data removed]",
      "text/plain": [
       "<Figure size 432x288 with 1 Axes>"
      ]
     },
     "metadata": {
      "needs_background": "light"
     },
     "output_type": "display_data"
    }
   ],
   "source": [
    "plt.scatter(y_test,y_pred, s=1, c = \"g\")\n",
    "\n",
    "m, b = np.polyfit(y_test,y_pred, 1)\n",
    "plt.plot(y_test, m*y_test + b, color = \"r\")"
   ]
  },
  {
   "cell_type": "code",
   "execution_count": 90,
   "metadata": {},
   "outputs": [
    {
     "name": "stdout",
     "output_type": "stream",
     "text": [
      "\t Accuracy: 0.006\n",
      "\t Precision: 0.013\n",
      "\t Recall: 0.006\n",
      "\t F1Score: 0.007\n",
      "\t Mean Square Error: 332734.604\n",
      "\t Root Mean Square Error: 576.832\n"
     ]
    },
    {
     "name": "stderr",
     "output_type": "stream",
     "text": [
      "/usr/local/lib/python3.7/site-packages/sklearn/metrics/_classification.py:1221: UndefinedMetricWarning: Precision is ill-defined and being set to 0.0 in labels with no predicted samples. Use `zero_division` parameter to control this behavior.\n",
      "  _warn_prf(average, modifier, msg_start, len(result))\n",
      "/usr/local/lib/python3.7/site-packages/sklearn/metrics/_classification.py:1221: UndefinedMetricWarning: Recall is ill-defined and being set to 0.0 in labels with no true samples. Use `zero_division` parameter to control this behavior.\n",
      "  _warn_prf(average, modifier, msg_start, len(result))\n"
     ]
    }
   ],
   "source": [
    "#Features_1\n",
    "\n",
    "csv = train_clean[features_1]\n",
    "csv\n",
    "X_train, X_test, y_train, y_test = split(csv)\n",
    "y_pred = fitModel(RandomForestRegressor(random_state=0))\n",
    "y_pred = y_pred.round()\n",
    "printMetrics(y_test,y_pred)"
   ]
  },
  {
   "cell_type": "code",
   "execution_count": 149,
   "metadata": {},
   "outputs": [
    {
     "name": "stdout",
     "output_type": "stream",
     "text": [
      "\t Accuracy: 0.004\n",
      "\t Precision: 0.006\n",
      "\t Recall: 0.004\n",
      "\t F1Score: 0.004\n",
      "\t Mean Square Error: 300337.564\n",
      "\t Root Mean Square Error: 548.031\n"
     ]
    },
    {
     "name": "stderr",
     "output_type": "stream",
     "text": [
      "/usr/local/lib/python3.7/site-packages/sklearn/metrics/_classification.py:1221: UndefinedMetricWarning: Precision is ill-defined and being set to 0.0 in labels with no predicted samples. Use `zero_division` parameter to control this behavior.\n",
      "  _warn_prf(average, modifier, msg_start, len(result))\n",
      "/usr/local/lib/python3.7/site-packages/sklearn/metrics/_classification.py:1221: UndefinedMetricWarning: Recall is ill-defined and being set to 0.0 in labels with no true samples. Use `zero_division` parameter to control this behavior.\n",
      "  _warn_prf(average, modifier, msg_start, len(result))\n"
     ]
    }
   ],
   "source": [
    "#Features_3\n",
    "\n",
    "csv = train_clean[features_3]\n",
    "csv\n",
    "X_train, X_test, y_train, y_test = split(csv)\n",
    "y_pred = fitModel(RandomForestRegressor(random_state=0))\n",
    "y_pred = y_pred.round()\n",
    "printMetrics(y_test,y_pred)\n"
   ]
  },
  {
   "cell_type": "code",
   "execution_count": 204,
   "metadata": {},
   "outputs": [
    {
     "name": "stdout",
     "output_type": "stream",
     "text": [
      "\t Accuracy: 0.003\n",
      "\t Precision: 0.006\n",
      "\t Recall: 0.003\n",
      "\t F1Score: 0.004\n",
      "\t Mean Square Error: 323907.676\n",
      "\t Root Mean Square Error: 569.129\n"
     ]
    },
    {
     "name": "stderr",
     "output_type": "stream",
     "text": [
      "/usr/local/lib/python3.7/site-packages/sklearn/metrics/_classification.py:1221: UndefinedMetricWarning: Precision is ill-defined and being set to 0.0 in labels with no predicted samples. Use `zero_division` parameter to control this behavior.\n",
      "  _warn_prf(average, modifier, msg_start, len(result))\n",
      "/usr/local/lib/python3.7/site-packages/sklearn/metrics/_classification.py:1221: UndefinedMetricWarning: Recall is ill-defined and being set to 0.0 in labels with no true samples. Use `zero_division` parameter to control this behavior.\n",
      "  _warn_prf(average, modifier, msg_start, len(result))\n"
     ]
    }
   ],
   "source": [
    "#Trying other parameters\n",
    "\n",
    "csv = train_clean[features_3]\n",
    "csv\n",
    "X_train, X_test, y_train, y_test = split(csv)\n",
    "y_pred = fitModel(RandomForestRegressor(random_state=0, warm_start=True))\n",
    "y_pred = y_pred.round()\n",
    "printMetrics(y_test,y_pred)"
   ]
  },
  {
   "cell_type": "markdown",
   "metadata": {},
   "source": [
    "## Grid Search - Takes too long"
   ]
  },
  {
   "cell_type": "code",
   "execution_count": 205,
   "metadata": {},
   "outputs": [],
   "source": [
    "from sklearn.model_selection import GridSearchCV\n",
    "from sklearn import svm"
   ]
  },
  {
   "cell_type": "code",
   "execution_count": 206,
   "metadata": {},
   "outputs": [],
   "source": [
    "parameters = {\"n_estimators\":[10, 100, 100],  \n",
    "              \"max_features\":[\"auto\", \"sqrt\", \"log2\"], \"bootstrap\":[True, False], \n",
    "              \"warm_start\":[True, False]}\n"
   ]
  },
  {
   "cell_type": "code",
   "execution_count": 207,
   "metadata": {},
   "outputs": [
    {
     "data": {
      "text/plain": [
       "GridSearchCV(estimator=RandomForestRegressor(random_state=0),\n",
       "             param_grid={'bootstrap': [True, False],\n",
       "                         'max_features': ['auto', 'sqrt', 'log2'],\n",
       "                         'n_estimators': [10, 100, 100],\n",
       "                         'warm_start': [True, False]})"
      ]
     },
     "execution_count": 207,
     "metadata": {},
     "output_type": "execute_result"
    }
   ],
   "source": [
    "model = RandomForestRegressor(random_state=0)\n",
    "clf = GridSearchCV(model, parameters)\n",
    "clf.fit(X_train, y_train)"
   ]
  },
  {
   "cell_type": "code",
   "execution_count": 216,
   "metadata": {},
   "outputs": [
    {
     "name": "stdout",
     "output_type": "stream",
     "text": [
      "\n",
      " The best estimator across ALL searched params:\n",
      " RandomForestRegressor(random_state=0, warm_start=True)\n",
      "\n",
      " The best score across ALL searched params:\n",
      " 0.9791936260737424\n",
      "\n",
      " The best parameters across ALL searched params:\n",
      " {'bootstrap': True, 'max_features': 'auto', 'n_estimators': 100, 'warm_start': True}\n"
     ]
    }
   ],
   "source": [
    "print(\"\\n The best estimator across ALL searched params:\\n\",\n",
    "          clf.best_estimator_)\n",
    "print(\"\\n The best score across ALL searched params:\\n\",\n",
    "          clf.best_score_)\n",
    "print(\"\\n The best parameters across ALL searched params:\\n\",\n",
    "          clf.best_params_)"
   ]
  },
  {
   "cell_type": "code",
   "execution_count": null,
   "metadata": {},
   "outputs": [],
   "source": []
  },
  {
   "cell_type": "markdown",
   "metadata": {},
   "source": [
    "## ExportingPredictions\n"
   ]
  },
  {
   "cell_type": "code",
   "execution_count": 182,
   "metadata": {},
   "outputs": [
    {
     "data": {
      "text/plain": [
       "'# Extra Tree Classifier - features:all\\nX_train, X_test, y_train, y_test = split(train_clean)\\nresults1 = predictModel(ExtraTreeClassifier(), f=[[\\'id\\',\\'carat\\',\\'table\\',\\'x\\',\\'y\\',\\'z\\',\\'price\\',\\'color_numeric\\',\\'cut_numeric\\', \\'clarity_numeric\\', \\'depth\\']])\\nresults1 = pd.DataFrame(results, columns=[\"price\"])'"
      ]
     },
     "execution_count": 182,
     "metadata": {},
     "output_type": "execute_result"
    }
   ],
   "source": [
    "\"\"\"# Extra Tree Classifier - features:all\n",
    "X_train, X_test, y_train, y_test = split(train_clean)\n",
    "results1 = predictModel(ExtraTreeClassifier(), f=[['id','carat','table','x','y','z','price','color_numeric','cut_numeric', 'clarity_numeric', 'depth']])\n",
    "results1 = pd.DataFrame(results, columns=[\"price\"])\"\"\""
   ]
  },
  {
   "cell_type": "code",
   "execution_count": null,
   "metadata": {},
   "outputs": [],
   "source": [
    "#results.to_csv(\"outputs/1.1\")"
   ]
  },
  {
   "cell_type": "code",
   "execution_count": null,
   "metadata": {},
   "outputs": [],
   "source": [
    "\"\"\"\n",
    "csv = train_clean[features_1]\n",
    "csv.shape\n",
    "X_train, X_test, y_train, y_test = split(csv)\n",
    "y_pred = fitModel(DecisionTreeClassifier(random_state=0))\n",
    "printMetrics(y_test,y_pred)\n",
    "\"\"\""
   ]
  },
  {
   "cell_type": "code",
   "execution_count": null,
   "metadata": {},
   "outputs": [],
   "source": [
    "# Decision Tree Classifier - features: all except \"id\" and \"depth\"\n",
    "\n",
    "X_train, X_test, y_train, y_test = split(train_clean[features_1])\n",
    "results2 = predictModel(DecisionTreeClassifier(random_state=0))\n",
    "results2 = pd.DataFrame(results, columns=[\"price\"])"
   ]
  },
  {
   "cell_type": "code",
   "execution_count": null,
   "metadata": {},
   "outputs": [],
   "source": [
    "#wrong\n",
    "results2"
   ]
  },
  {
   "cell_type": "code",
   "execution_count": null,
   "metadata": {},
   "outputs": [],
   "source": [
    "#results2.to_csv(\"outputs/1.2\")"
   ]
  },
  {
   "cell_type": "code",
   "execution_count": null,
   "metadata": {},
   "outputs": [],
   "source": [
    "# Decision Tree Classifier - features: all except \"id\" and \"depth\"\n",
    "\n",
    "\"\"\"X_train, X_test, y_train, y_test = split(train_clean[features_1])\n",
    "results3 = predictModel(DecisionTreeClassifier(random_state=0))\n",
    "results3 = pd.DataFrame(results3, columns=[\"price\"])\"\"\""
   ]
  },
  {
   "cell_type": "code",
   "execution_count": null,
   "metadata": {},
   "outputs": [],
   "source": [
    "results3 "
   ]
  },
  {
   "cell_type": "code",
   "execution_count": 91,
   "metadata": {},
   "outputs": [],
   "source": [
    "#results3.to_csv(\"outputs/1.3\")"
   ]
  },
  {
   "cell_type": "code",
   "execution_count": 177,
   "metadata": {},
   "outputs": [],
   "source": [
    "# Random Forest Regressor - features: all except \"id\" and \"depth\"\n",
    "\"\"\"X_train, X_test, y_train, y_test = split(train_clean[features_0])\n",
    "results4 = predictModel(RandomForestRegressor(random_state=0))\n",
    "results4 = pd.DataFrame(results4, columns=[\"price\"])\"\"\""
   ]
  },
  {
   "cell_type": "code",
   "execution_count": 178,
   "metadata": {},
   "outputs": [
    {
     "data": {
      "text/html": [
       "<div>\n",
       "<style scoped>\n",
       "    .dataframe tbody tr th:only-of-type {\n",
       "        vertical-align: middle;\n",
       "    }\n",
       "\n",
       "    .dataframe tbody tr th {\n",
       "        vertical-align: top;\n",
       "    }\n",
       "\n",
       "    .dataframe thead th {\n",
       "        text-align: right;\n",
       "    }\n",
       "</style>\n",
       "<table border=\"1\" class=\"dataframe\">\n",
       "  <thead>\n",
       "    <tr style=\"text-align: right;\">\n",
       "      <th></th>\n",
       "      <th>price</th>\n",
       "    </tr>\n",
       "  </thead>\n",
       "  <tbody>\n",
       "    <tr>\n",
       "      <th>0</th>\n",
       "      <td>15428.05</td>\n",
       "    </tr>\n",
       "    <tr>\n",
       "      <th>1</th>\n",
       "      <td>15814.44</td>\n",
       "    </tr>\n",
       "    <tr>\n",
       "      <th>2</th>\n",
       "      <td>1002.30</td>\n",
       "    </tr>\n",
       "    <tr>\n",
       "      <th>3</th>\n",
       "      <td>435.07</td>\n",
       "    </tr>\n",
       "    <tr>\n",
       "      <th>4</th>\n",
       "      <td>3532.76</td>\n",
       "    </tr>\n",
       "    <tr>\n",
       "      <th>...</th>\n",
       "      <td>...</td>\n",
       "    </tr>\n",
       "    <tr>\n",
       "      <th>13480</th>\n",
       "      <td>2467.89</td>\n",
       "    </tr>\n",
       "    <tr>\n",
       "      <th>13481</th>\n",
       "      <td>5035.04</td>\n",
       "    </tr>\n",
       "    <tr>\n",
       "      <th>13482</th>\n",
       "      <td>2421.93</td>\n",
       "    </tr>\n",
       "    <tr>\n",
       "      <th>13483</th>\n",
       "      <td>1032.44</td>\n",
       "    </tr>\n",
       "    <tr>\n",
       "      <th>13484</th>\n",
       "      <td>2819.02</td>\n",
       "    </tr>\n",
       "  </tbody>\n",
       "</table>\n",
       "<p>13485 rows × 1 columns</p>\n",
       "</div>"
      ],
      "text/plain": [
       "          price\n",
       "0      15428.05\n",
       "1      15814.44\n",
       "2       1002.30\n",
       "3        435.07\n",
       "4       3532.76\n",
       "...         ...\n",
       "13480   2467.89\n",
       "13481   5035.04\n",
       "13482   2421.93\n",
       "13483   1032.44\n",
       "13484   2819.02\n",
       "\n",
       "[13485 rows x 1 columns]"
      ]
     },
     "execution_count": 178,
     "metadata": {},
     "output_type": "execute_result"
    }
   ],
   "source": [
    "results4"
   ]
  },
  {
   "cell_type": "code",
   "execution_count": 96,
   "metadata": {},
   "outputs": [],
   "source": [
    "#results4.to_csv(\"outputs/1.4\")"
   ]
  },
  {
   "cell_type": "code",
   "execution_count": 223,
   "metadata": {},
   "outputs": [],
   "source": [
    "# Random Forest Regressor(warm_start=True) - features: all except \"id\", \"x\", \"y\" and \"z\"\n",
    "X_train, X_test, y_train, y_test = split(train_clean[features_3])\n",
    "results5 = predictModel(RandomForestRegressor(random_state=0, warm_start=True), f=['carat','table','depth','color_numeric','cut_numeric', 'clarity_numeric'])\n",
    "results5 = pd.DataFrame(results5, columns=[\"price\"])"
   ]
  },
  {
   "cell_type": "code",
   "execution_count": 224,
   "metadata": {},
   "outputs": [
    {
     "data": {
      "text/html": [
       "<div>\n",
       "<style scoped>\n",
       "    .dataframe tbody tr th:only-of-type {\n",
       "        vertical-align: middle;\n",
       "    }\n",
       "\n",
       "    .dataframe tbody tr th {\n",
       "        vertical-align: top;\n",
       "    }\n",
       "\n",
       "    .dataframe thead th {\n",
       "        text-align: right;\n",
       "    }\n",
       "</style>\n",
       "<table border=\"1\" class=\"dataframe\">\n",
       "  <thead>\n",
       "    <tr style=\"text-align: right;\">\n",
       "      <th></th>\n",
       "      <th>price</th>\n",
       "    </tr>\n",
       "  </thead>\n",
       "  <tbody>\n",
       "    <tr>\n",
       "      <th>0</th>\n",
       "      <td>14707.328333</td>\n",
       "    </tr>\n",
       "    <tr>\n",
       "      <th>1</th>\n",
       "      <td>14887.040000</td>\n",
       "    </tr>\n",
       "    <tr>\n",
       "      <th>2</th>\n",
       "      <td>1014.059333</td>\n",
       "    </tr>\n",
       "    <tr>\n",
       "      <th>3</th>\n",
       "      <td>477.062500</td>\n",
       "    </tr>\n",
       "    <tr>\n",
       "      <th>4</th>\n",
       "      <td>3892.700000</td>\n",
       "    </tr>\n",
       "    <tr>\n",
       "      <th>...</th>\n",
       "      <td>...</td>\n",
       "    </tr>\n",
       "    <tr>\n",
       "      <th>13480</th>\n",
       "      <td>2480.296000</td>\n",
       "    </tr>\n",
       "    <tr>\n",
       "      <th>13481</th>\n",
       "      <td>4849.620000</td>\n",
       "    </tr>\n",
       "    <tr>\n",
       "      <th>13482</th>\n",
       "      <td>2485.629167</td>\n",
       "    </tr>\n",
       "    <tr>\n",
       "      <th>13483</th>\n",
       "      <td>1017.200000</td>\n",
       "    </tr>\n",
       "    <tr>\n",
       "      <th>13484</th>\n",
       "      <td>2816.750000</td>\n",
       "    </tr>\n",
       "  </tbody>\n",
       "</table>\n",
       "<p>13485 rows × 1 columns</p>\n",
       "</div>"
      ],
      "text/plain": [
       "              price\n",
       "0      14707.328333\n",
       "1      14887.040000\n",
       "2       1014.059333\n",
       "3        477.062500\n",
       "4       3892.700000\n",
       "...             ...\n",
       "13480   2480.296000\n",
       "13481   4849.620000\n",
       "13482   2485.629167\n",
       "13483   1017.200000\n",
       "13484   2816.750000\n",
       "\n",
       "[13485 rows x 1 columns]"
      ]
     },
     "execution_count": 224,
     "metadata": {},
     "output_type": "execute_result"
    }
   ],
   "source": [
    "results5"
   ]
  },
  {
   "cell_type": "code",
   "execution_count": 225,
   "metadata": {},
   "outputs": [],
   "source": [
    "results5.to_csv(\"outputs/1.5\")"
   ]
  },
  {
   "cell_type": "code",
   "execution_count": null,
   "metadata": {},
   "outputs": [],
   "source": []
  }
 ],
 "metadata": {
  "kernelspec": {
   "display_name": "Python 3",
   "language": "python",
   "name": "python3"
  },
  "language_info": {
   "codemirror_mode": {
    "name": "ipython",
    "version": 3
   },
   "file_extension": ".py",
   "mimetype": "text/x-python",
   "name": "python",
   "nbconvert_exporter": "python",
   "pygments_lexer": "ipython3",
   "version": "3.7.7"
  }
 },
 "nbformat": 4,
 "nbformat_minor": 4
}
