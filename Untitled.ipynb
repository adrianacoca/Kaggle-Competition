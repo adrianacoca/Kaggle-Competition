{
 "cells": [
  {
   "cell_type": "code",
   "execution_count": 2,
   "metadata": {},
   "outputs": [],
   "source": [
    "import pandas as pd\n",
    "import numpy as np"
   ]
  },
  {
   "cell_type": "code",
   "execution_count": 3,
   "metadata": {},
   "outputs": [],
   "source": [
    "train = pd.read_csv(\"data/train.csv\")"
   ]
  },
  {
   "cell_type": "markdown",
   "metadata": {},
   "source": [
    "# Inspecting the Data"
   ]
  },
  {
   "cell_type": "code",
   "execution_count": 5,
   "metadata": {},
   "outputs": [
    {
     "data": {
      "text/html": [
       "<div>\n",
       "<style scoped>\n",
       "    .dataframe tbody tr th:only-of-type {\n",
       "        vertical-align: middle;\n",
       "    }\n",
       "\n",
       "    .dataframe tbody tr th {\n",
       "        vertical-align: top;\n",
       "    }\n",
       "\n",
       "    .dataframe thead th {\n",
       "        text-align: right;\n",
       "    }\n",
       "</style>\n",
       "<table border=\"1\" class=\"dataframe\">\n",
       "  <thead>\n",
       "    <tr style=\"text-align: right;\">\n",
       "      <th></th>\n",
       "      <th>id</th>\n",
       "      <th>carat</th>\n",
       "      <th>cut</th>\n",
       "      <th>color</th>\n",
       "      <th>clarity</th>\n",
       "      <th>depth</th>\n",
       "      <th>table</th>\n",
       "      <th>x</th>\n",
       "      <th>y</th>\n",
       "      <th>z</th>\n",
       "      <th>price</th>\n",
       "    </tr>\n",
       "  </thead>\n",
       "  <tbody>\n",
       "    <tr>\n",
       "      <th>0</th>\n",
       "      <td>0</td>\n",
       "      <td>0.30</td>\n",
       "      <td>Very Good</td>\n",
       "      <td>F</td>\n",
       "      <td>VS2</td>\n",
       "      <td>62.8</td>\n",
       "      <td>56.0</td>\n",
       "      <td>4.29</td>\n",
       "      <td>4.31</td>\n",
       "      <td>2.70</td>\n",
       "      <td>605</td>\n",
       "    </tr>\n",
       "    <tr>\n",
       "      <th>1</th>\n",
       "      <td>1</td>\n",
       "      <td>0.34</td>\n",
       "      <td>Ideal</td>\n",
       "      <td>E</td>\n",
       "      <td>SI1</td>\n",
       "      <td>62.6</td>\n",
       "      <td>55.0</td>\n",
       "      <td>4.46</td>\n",
       "      <td>4.49</td>\n",
       "      <td>2.80</td>\n",
       "      <td>565</td>\n",
       "    </tr>\n",
       "    <tr>\n",
       "      <th>2</th>\n",
       "      <td>2</td>\n",
       "      <td>0.40</td>\n",
       "      <td>Very Good</td>\n",
       "      <td>D</td>\n",
       "      <td>SI1</td>\n",
       "      <td>60.3</td>\n",
       "      <td>62.0</td>\n",
       "      <td>4.70</td>\n",
       "      <td>4.75</td>\n",
       "      <td>2.85</td>\n",
       "      <td>720</td>\n",
       "    </tr>\n",
       "    <tr>\n",
       "      <th>3</th>\n",
       "      <td>3</td>\n",
       "      <td>0.40</td>\n",
       "      <td>Premium</td>\n",
       "      <td>H</td>\n",
       "      <td>VS1</td>\n",
       "      <td>61.8</td>\n",
       "      <td>59.2</td>\n",
       "      <td>4.72</td>\n",
       "      <td>4.74</td>\n",
       "      <td>2.92</td>\n",
       "      <td>793</td>\n",
       "    </tr>\n",
       "    <tr>\n",
       "      <th>4</th>\n",
       "      <td>4</td>\n",
       "      <td>0.90</td>\n",
       "      <td>Very Good</td>\n",
       "      <td>D</td>\n",
       "      <td>SI1</td>\n",
       "      <td>61.0</td>\n",
       "      <td>63.0</td>\n",
       "      <td>6.10</td>\n",
       "      <td>6.13</td>\n",
       "      <td>3.73</td>\n",
       "      <td>4381</td>\n",
       "    </tr>\n",
       "  </tbody>\n",
       "</table>\n",
       "</div>"
      ],
      "text/plain": [
       "   id  carat        cut color clarity  depth  table     x     y     z  price\n",
       "0   0   0.30  Very Good     F     VS2   62.8   56.0  4.29  4.31  2.70    605\n",
       "1   1   0.34      Ideal     E     SI1   62.6   55.0  4.46  4.49  2.80    565\n",
       "2   2   0.40  Very Good     D     SI1   60.3   62.0  4.70  4.75  2.85    720\n",
       "3   3   0.40    Premium     H     VS1   61.8   59.2  4.72  4.74  2.92    793\n",
       "4   4   0.90  Very Good     D     SI1   61.0   63.0  6.10  6.13  3.73   4381"
      ]
     },
     "execution_count": 5,
     "metadata": {},
     "output_type": "execute_result"
    }
   ],
   "source": [
    "train.head()"
   ]
  },
  {
   "cell_type": "code",
   "execution_count": 6,
   "metadata": {},
   "outputs": [
    {
     "data": {
      "text/plain": [
       "id         0\n",
       "carat      0\n",
       "cut        0\n",
       "color      0\n",
       "clarity    0\n",
       "depth      0\n",
       "table      0\n",
       "x          0\n",
       "y          0\n",
       "z          0\n",
       "price      0\n",
       "dtype: int64"
      ]
     },
     "execution_count": 6,
     "metadata": {},
     "output_type": "execute_result"
    }
   ],
   "source": [
    "train.isna().sum()"
   ]
  },
  {
   "cell_type": "code",
   "execution_count": 8,
   "metadata": {},
   "outputs": [
    {
     "data": {
      "text/plain": [
       "id           int64\n",
       "carat      float64\n",
       "cut         object\n",
       "color       object\n",
       "clarity     object\n",
       "depth      float64\n",
       "table      float64\n",
       "x          float64\n",
       "y          float64\n",
       "z          float64\n",
       "price        int64\n",
       "dtype: object"
      ]
     },
     "execution_count": 8,
     "metadata": {},
     "output_type": "execute_result"
    }
   ],
   "source": [
    "train.dtypes"
   ]
  },
  {
   "cell_type": "code",
   "execution_count": 9,
   "metadata": {},
   "outputs": [
    {
     "data": {
      "text/html": [
       "<div>\n",
       "<style scoped>\n",
       "    .dataframe tbody tr th:only-of-type {\n",
       "        vertical-align: middle;\n",
       "    }\n",
       "\n",
       "    .dataframe tbody tr th {\n",
       "        vertical-align: top;\n",
       "    }\n",
       "\n",
       "    .dataframe thead th {\n",
       "        text-align: right;\n",
       "    }\n",
       "</style>\n",
       "<table border=\"1\" class=\"dataframe\">\n",
       "  <thead>\n",
       "    <tr style=\"text-align: right;\">\n",
       "      <th></th>\n",
       "      <th>id</th>\n",
       "      <th>carat</th>\n",
       "      <th>depth</th>\n",
       "      <th>table</th>\n",
       "      <th>x</th>\n",
       "      <th>y</th>\n",
       "      <th>z</th>\n",
       "      <th>price</th>\n",
       "    </tr>\n",
       "  </thead>\n",
       "  <tbody>\n",
       "    <tr>\n",
       "      <th>id</th>\n",
       "      <td>1.000000</td>\n",
       "      <td>0.002653</td>\n",
       "      <td>0.002349</td>\n",
       "      <td>-0.006281</td>\n",
       "      <td>0.001529</td>\n",
       "      <td>0.001976</td>\n",
       "      <td>0.004030</td>\n",
       "      <td>0.006826</td>\n",
       "    </tr>\n",
       "    <tr>\n",
       "      <th>carat</th>\n",
       "      <td>0.002653</td>\n",
       "      <td>1.000000</td>\n",
       "      <td>0.032379</td>\n",
       "      <td>0.181791</td>\n",
       "      <td>0.974898</td>\n",
       "      <td>0.944513</td>\n",
       "      <td>0.947538</td>\n",
       "      <td>0.922567</td>\n",
       "    </tr>\n",
       "    <tr>\n",
       "      <th>depth</th>\n",
       "      <td>0.002349</td>\n",
       "      <td>0.032379</td>\n",
       "      <td>1.000000</td>\n",
       "      <td>-0.297164</td>\n",
       "      <td>-0.020876</td>\n",
       "      <td>-0.025105</td>\n",
       "      <td>0.099375</td>\n",
       "      <td>-0.005105</td>\n",
       "    </tr>\n",
       "    <tr>\n",
       "      <th>table</th>\n",
       "      <td>-0.006281</td>\n",
       "      <td>0.181791</td>\n",
       "      <td>-0.297164</td>\n",
       "      <td>1.000000</td>\n",
       "      <td>0.194763</td>\n",
       "      <td>0.181585</td>\n",
       "      <td>0.149242</td>\n",
       "      <td>0.129777</td>\n",
       "    </tr>\n",
       "    <tr>\n",
       "      <th>x</th>\n",
       "      <td>0.001529</td>\n",
       "      <td>0.974898</td>\n",
       "      <td>-0.020876</td>\n",
       "      <td>0.194763</td>\n",
       "      <td>1.000000</td>\n",
       "      <td>0.967114</td>\n",
       "      <td>0.965114</td>\n",
       "      <td>0.884089</td>\n",
       "    </tr>\n",
       "    <tr>\n",
       "      <th>y</th>\n",
       "      <td>0.001976</td>\n",
       "      <td>0.944513</td>\n",
       "      <td>-0.025105</td>\n",
       "      <td>0.181585</td>\n",
       "      <td>0.967114</td>\n",
       "      <td>1.000000</td>\n",
       "      <td>0.940678</td>\n",
       "      <td>0.858536</td>\n",
       "    </tr>\n",
       "    <tr>\n",
       "      <th>z</th>\n",
       "      <td>0.004030</td>\n",
       "      <td>0.947538</td>\n",
       "      <td>0.099375</td>\n",
       "      <td>0.149242</td>\n",
       "      <td>0.965114</td>\n",
       "      <td>0.940678</td>\n",
       "      <td>1.000000</td>\n",
       "      <td>0.855923</td>\n",
       "    </tr>\n",
       "    <tr>\n",
       "      <th>price</th>\n",
       "      <td>0.006826</td>\n",
       "      <td>0.922567</td>\n",
       "      <td>-0.005105</td>\n",
       "      <td>0.129777</td>\n",
       "      <td>0.884089</td>\n",
       "      <td>0.858536</td>\n",
       "      <td>0.855923</td>\n",
       "      <td>1.000000</td>\n",
       "    </tr>\n",
       "  </tbody>\n",
       "</table>\n",
       "</div>"
      ],
      "text/plain": [
       "             id     carat     depth     table         x         y         z  \\\n",
       "id     1.000000  0.002653  0.002349 -0.006281  0.001529  0.001976  0.004030   \n",
       "carat  0.002653  1.000000  0.032379  0.181791  0.974898  0.944513  0.947538   \n",
       "depth  0.002349  0.032379  1.000000 -0.297164 -0.020876 -0.025105  0.099375   \n",
       "table -0.006281  0.181791 -0.297164  1.000000  0.194763  0.181585  0.149242   \n",
       "x      0.001529  0.974898 -0.020876  0.194763  1.000000  0.967114  0.965114   \n",
       "y      0.001976  0.944513 -0.025105  0.181585  0.967114  1.000000  0.940678   \n",
       "z      0.004030  0.947538  0.099375  0.149242  0.965114  0.940678  1.000000   \n",
       "price  0.006826  0.922567 -0.005105  0.129777  0.884089  0.858536  0.855923   \n",
       "\n",
       "          price  \n",
       "id     0.006826  \n",
       "carat  0.922567  \n",
       "depth -0.005105  \n",
       "table  0.129777  \n",
       "x      0.884089  \n",
       "y      0.858536  \n",
       "z      0.855923  \n",
       "price  1.000000  "
      ]
     },
     "execution_count": 9,
     "metadata": {},
     "output_type": "execute_result"
    }
   ],
   "source": [
    "train.corr()"
   ]
  },
  {
   "cell_type": "code",
   "execution_count": 30,
   "metadata": {},
   "outputs": [
    {
     "name": "stdout",
     "output_type": "stream",
     "text": [
      "G    8469\n",
      "E    7375\n",
      "F    7179\n",
      "H    6229\n",
      "D    5012\n",
      "I    4088\n",
      "J    2103\n",
      "Name: color, dtype: int64 \n",
      "\n",
      " Ideal        16175\n",
      "Premium      10272\n",
      "Very Good     9146\n",
      "Good          3676\n",
      "Fair          1186\n",
      "Name: cut, dtype: int64 \n",
      "\n",
      " SI1     9813\n",
      "VS2     9217\n",
      "SI2     6844\n",
      "VS1     6150\n",
      "VVS2    3784\n",
      "VVS1    2780\n",
      "IF      1326\n",
      "I1       541\n",
      "Name: clarity, dtype: int64\n"
     ]
    }
   ],
   "source": [
    "print(train.color.value_counts(),\"\\n\\n\",\n",
    "train.cut.value_counts(),\"\\n\\n\",\n",
    "train.clarity.value_counts())"
   ]
  },
  {
   "cell_type": "code",
   "execution_count": 11,
   "metadata": {},
   "outputs": [
    {
     "data": {
      "text/plain": [
       "Ideal        16175\n",
       "Premium      10272\n",
       "Very Good     9146\n",
       "Good          3676\n",
       "Fair          1186\n",
       "Name: cut, dtype: int64"
      ]
     },
     "execution_count": 11,
     "metadata": {},
     "output_type": "execute_result"
    }
   ],
   "source": [
    "from sklearn.model_selection import train_test_split"
   ]
  },
  {
   "cell_type": "code",
   "execution_count": 12,
   "metadata": {},
   "outputs": [
    {
     "data": {
      "text/plain": [
       "SI1     9813\n",
       "VS2     9217\n",
       "SI2     6844\n",
       "VS1     6150\n",
       "VVS2    3784\n",
       "VVS1    2780\n",
       "IF      1326\n",
       "I1       541\n",
       "Name: clarity, dtype: int64"
      ]
     },
     "execution_count": 12,
     "metadata": {},
     "output_type": "execute_result"
    }
   ],
   "source": [
    "from sklearn.neighbors import KNeighborsClassifier\n",
    "from sklearn.tree import DecisionTreeClassifier"
   ]
  },
  {
   "cell_type": "code",
   "execution_count": null,
   "metadata": {},
   "outputs": [],
   "source": []
  },
  {
   "cell_type": "code",
   "execution_count": null,
   "metadata": {},
   "outputs": [],
   "source": []
  },
  {
   "cell_type": "code",
   "execution_count": null,
   "metadata": {},
   "outputs": [],
   "source": []
  }
 ],
 "metadata": {
  "kernelspec": {
   "display_name": "Python 3",
   "language": "python",
   "name": "python3"
  },
  "language_info": {
   "codemirror_mode": {
    "name": "ipython",
    "version": 3
   },
   "file_extension": ".py",
   "mimetype": "text/x-python",
   "name": "python",
   "nbconvert_exporter": "python",
   "pygments_lexer": "ipython3",
   "version": "3.7.7"
  }
 },
 "nbformat": 4,
 "nbformat_minor": 4
}
